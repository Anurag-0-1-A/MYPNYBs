{
  "nbformat": 4,
  "nbformat_minor": 0,
  "metadata": {
    "colab": {
      "name": "If Elif and Else Statements in Python",
      "provenance": [],
      "collapsed_sections": [],
      "authorship_tag": "ABX9TyNphcDJ56yxp8Yzs6r5Dodw",
      "include_colab_link": true
    },
    "kernelspec": {
      "name": "python3",
      "display_name": "Python 3"
    }
  },
  "cells": [
    {
      "cell_type": "markdown",
      "metadata": {
        "id": "view-in-github",
        "colab_type": "text"
      },
      "source": [
        "<a href=\"https://colab.research.google.com/github/Anurag-0-1-A/MYPNYBs/blob/master/Python_Statements/If_Elif_and_Else_Statements_in_Python.ipynb\" target=\"_parent\"><img src=\"https://colab.research.google.com/assets/colab-badge.svg\" alt=\"Open In Colab\"/></a>"
      ]
    },
    {
      "cell_type": "code",
      "metadata": {
        "id": "pcGA5Tsyp02t",
        "colab_type": "code",
        "colab": {}
      },
      "source": [
        "i=9\n",
        "if i == 10:\n",
        "  pass"
      ],
      "execution_count": null,
      "outputs": []
    },
    {
      "cell_type": "code",
      "metadata": {
        "id": "eygSzUufqhpt",
        "colab_type": "code",
        "colab": {}
      },
      "source": [
        "i=\"* \\n\""
      ],
      "execution_count": null,
      "outputs": []
    },
    {
      "cell_type": "code",
      "metadata": {
        "id": "B26IA5z5qR8S",
        "colab_type": "code",
        "colab": {
          "base_uri": "https://localhost:8080/",
          "height": 50
        },
        "outputId": "086cfda9-eb84-4ad0-eeb0-dbd392ef031a"
      },
      "source": [
        "for\n",
        "print (i+\"\\n\")"
      ],
      "execution_count": null,
      "outputs": [
        {
          "output_type": "stream",
          "text": [
            "*\n",
            "\n"
          ],
          "name": "stdout"
        }
      ]
    },
    {
      "cell_type": "code",
      "metadata": {
        "id": "neoWEc79chht",
        "colab_type": "code",
        "colab": {
          "base_uri": "https://localhost:8080/",
          "height": 34
        },
        "outputId": "b58d464a-1807-4619-e8e0-18f076f3e070"
      },
      "source": [
        "if True:\n",
        "  print('ITS TRUE!')"
      ],
      "execution_count": null,
      "outputs": [
        {
          "output_type": "stream",
          "text": [
            "ITS TRUE!\n"
          ],
          "name": "stdout"
        }
      ]
    },
    {
      "cell_type": "code",
      "metadata": {
        "id": "gvHzC9IwfR-e",
        "colab_type": "code",
        "colab": {
          "base_uri": "https://localhost:8080/",
          "height": 34
        },
        "outputId": "491e0a29-3d40-4288-d78f-79dc5651aca7"
      },
      "source": [
        "if 3>2:\n",
        "  print('ITS TRUE')"
      ],
      "execution_count": null,
      "outputs": [
        {
          "output_type": "stream",
          "text": [
            "ITS TRUE\n"
          ],
          "name": "stdout"
        }
      ]
    },
    {
      "cell_type": "code",
      "metadata": {
        "id": "U-sJ1fWJfiHW",
        "colab_type": "code",
        "colab": {
          "base_uri": "https://localhost:8080/",
          "height": 34
        },
        "outputId": "3c658160-ce4a-4156-daa2-173c67691a32"
      },
      "source": [
        "hungary = True \n",
        "if hungary:\n",
        "  print('FEED ME!')\n"
      ],
      "execution_count": null,
      "outputs": [
        {
          "output_type": "stream",
          "text": [
            "FEED ME!\n"
          ],
          "name": "stdout"
        }
      ]
    },
    {
      "cell_type": "code",
      "metadata": {
        "id": "H-8SnQMEfsMg",
        "colab_type": "code",
        "colab": {
          "base_uri": "https://localhost:8080/",
          "height": 34
        },
        "outputId": "52fbf8be-d95a-461a-c79a-d4a7ead0bd80"
      },
      "source": [
        "hungary = False \n",
        "if hungary: #no need to write here hungary==True \n",
        "  print('FEED ME!')\n",
        "else:\n",
        "  print('M not Hungary')"
      ],
      "execution_count": null,
      "outputs": [
        {
          "output_type": "stream",
          "text": [
            "M not Hungary\n"
          ],
          "name": "stdout"
        }
      ]
    },
    {
      "cell_type": "code",
      "metadata": {
        "id": "lP1fAYZXf243",
        "colab_type": "code",
        "colab": {
          "base_uri": "https://localhost:8080/",
          "height": 34
        },
        "outputId": "76b7d6e0-84e2-438e-ebe5-25a91182c21e"
      },
      "source": [
        "loc ='Game'\n",
        "if loc == 'Auto shop':\n",
        "  print('Cars are cool!')\n",
        "elif loc == 'Bank':\n",
        "  print('Money is Cool')\n",
        "elif loc == 'Store':\n",
        "  print('Welcome to the store')\n",
        "\n",
        "else:\n",
        "  print('I do not know much')"
      ],
      "execution_count": null,
      "outputs": [
        {
          "output_type": "stream",
          "text": [
            "I do not know much\n"
          ],
          "name": "stdout"
        }
      ]
    },
    {
      "cell_type": "code",
      "metadata": {
        "id": "6g1OWic4gn-u",
        "colab_type": "code",
        "colab": {
          "base_uri": "https://localhost:8080/",
          "height": 34
        },
        "outputId": "e4488eb4-8041-4b28-988e-c380a1cb2d78"
      },
      "source": [
        "name ='Anurag'\n",
        "if name =='Anu':\n",
        "  print('Hello Anu')\n",
        "elif name == 'Shadu':\n",
        "  print('Hello Shadu')\n",
        "else:\n",
        "  print('WHATS YOUR NAME?')\n"
      ],
      "execution_count": null,
      "outputs": [
        {
          "output_type": "stream",
          "text": [
            "WHATS YOUR NAME?\n"
          ],
          "name": "stdout"
        }
      ]
    },
    {
      "cell_type": "code",
      "metadata": {
        "id": "sGd8rkLwhs7O",
        "colab_type": "code",
        "colab": {}
      },
      "source": [
        ""
      ],
      "execution_count": null,
      "outputs": []
    }
  ]
}