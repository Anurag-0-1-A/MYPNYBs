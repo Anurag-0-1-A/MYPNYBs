{
  "nbformat": 4,
  "nbformat_minor": 0,
  "metadata": {
    "colab": {
      "name": "For Loops in Python",
      "provenance": [],
      "collapsed_sections": [],
      "authorship_tag": "ABX9TyOS1kPZdo3oyVgNPKXZINuB",
      "include_colab_link": true
    },
    "kernelspec": {
      "name": "python3",
      "display_name": "Python 3"
    }
  },
  "cells": [
    {
      "cell_type": "markdown",
      "metadata": {
        "id": "view-in-github",
        "colab_type": "text"
      },
      "source": [
        "<a href=\"https://colab.research.google.com/github/Anurag-0-1-A/MYPNYBs/blob/master/Python_Statements/For_Loops_in_Python.ipynb\" target=\"_parent\"><img src=\"https://colab.research.google.com/assets/colab-badge.svg\" alt=\"Open In Colab\"/></a>"
      ]
    },
    {
      "cell_type": "code",
      "metadata": {
        "id": "Ouu1w48zjmIw",
        "colab_type": "code",
        "colab": {}
      },
      "source": [
        "mylist=[1,2,3,4,5,6,7,8,9,10]"
      ],
      "execution_count": null,
      "outputs": []
    },
    {
      "cell_type": "code",
      "metadata": {
        "id": "WRC4Prw9lw2T",
        "colab_type": "code",
        "colab": {
          "base_uri": "https://localhost:8080/",
          "height": 185
        },
        "outputId": "bfd3bb56-ff55-4d45-90eb-04cb99a422e6"
      },
      "source": [
        "for anurag in mylist: #anurag represents objects inside the list\n",
        "  print(anurag)"
      ],
      "execution_count": null,
      "outputs": [
        {
          "output_type": "stream",
          "text": [
            "1\n",
            "2\n",
            "3\n",
            "4\n",
            "5\n",
            "6\n",
            "7\n",
            "8\n",
            "9\n",
            "10\n"
          ],
          "name": "stdout"
        }
      ]
    },
    {
      "cell_type": "code",
      "metadata": {
        "id": "tnl9ZHNCl__q",
        "colab_type": "code",
        "colab": {
          "base_uri": "https://localhost:8080/",
          "height": 185
        },
        "outputId": "bb08a79f-f85a-4003-e004-eb6604cb5a82"
      },
      "source": [
        "for anurag in mylist: \n",
        "  print('Anurag Sharma')"
      ],
      "execution_count": null,
      "outputs": [
        {
          "output_type": "stream",
          "text": [
            "Anurag Sharma\n",
            "Anurag Sharma\n",
            "Anurag Sharma\n",
            "Anurag Sharma\n",
            "Anurag Sharma\n",
            "Anurag Sharma\n",
            "Anurag Sharma\n",
            "Anurag Sharma\n",
            "Anurag Sharma\n",
            "Anurag Sharma\n"
          ],
          "name": "stdout"
        }
      ]
    },
    {
      "cell_type": "code",
      "metadata": {
        "id": "TxBapEPsmesp",
        "colab_type": "code",
        "colab": {
          "base_uri": "https://localhost:8080/",
          "height": 185
        },
        "outputId": "02ef0829-d799-410b-edd3-d11b0bcb240e"
      },
      "source": [
        "for num in mylist:\n",
        "  #check for even\n",
        "  if num%2==0:\n",
        "    print(num)\n",
        "  else:\n",
        "    print(f'odd number:{num}')"
      ],
      "execution_count": null,
      "outputs": [
        {
          "output_type": "stream",
          "text": [
            "odd number:1\n",
            "2\n",
            "odd number:3\n",
            "4\n",
            "odd number:5\n",
            "6\n",
            "odd number:7\n",
            "8\n",
            "odd number:9\n",
            "10\n"
          ],
          "name": "stdout"
        }
      ]
    },
    {
      "cell_type": "code",
      "metadata": {
        "id": "sX4MO7X7mvJ0",
        "colab_type": "code",
        "colab": {
          "base_uri": "https://localhost:8080/",
          "height": 34
        },
        "outputId": "4a79bbd3-da45-4b7b-a7b2-decbb36f8af3"
      },
      "source": [
        "list_sum=0\n",
        "\n",
        "for num in mylist:\n",
        "  list_sum=list_sum+num\n",
        "                               #here the line is left to remain outside the for loop       \n",
        "print(list_sum)\n",
        "#*******IMPORTANCE OF INDENTATION******"
      ],
      "execution_count": null,
      "outputs": [
        {
          "output_type": "stream",
          "text": [
            "55\n"
          ],
          "name": "stdout"
        }
      ]
    },
    {
      "cell_type": "code",
      "metadata": {
        "id": "992CA7uonUeA",
        "colab_type": "code",
        "colab": {
          "base_uri": "https://localhost:8080/",
          "height": 185
        },
        "outputId": "7ebc2fd3-017c-4028-e082-57773f6cb72f"
      },
      "source": [
        "list_sum=0\n",
        "\n",
        "for num in mylist:\n",
        "  list_sum=list_sum+num\n",
        "                                    \n",
        "  print(list_sum)#here I have given tab to be in sync with the loop"
      ],
      "execution_count": null,
      "outputs": [
        {
          "output_type": "stream",
          "text": [
            "1\n",
            "3\n",
            "6\n",
            "10\n",
            "15\n",
            "21\n",
            "28\n",
            "36\n",
            "45\n",
            "55\n"
          ],
          "name": "stdout"
        }
      ]
    },
    {
      "cell_type": "code",
      "metadata": {
        "id": "gRmXYCIQn6HW",
        "colab_type": "code",
        "colab": {
          "base_uri": "https://localhost:8080/",
          "height": 202
        },
        "outputId": "91106537-c7f4-4077-85d3-cfc4a6df2ff8"
      },
      "source": [
        "mystring='Hello World'\n",
        "\n",
        "for akshar in mystring:\n",
        "  print(akshar)"
      ],
      "execution_count": null,
      "outputs": [
        {
          "output_type": "stream",
          "text": [
            "H\n",
            "e\n",
            "l\n",
            "l\n",
            "o\n",
            " \n",
            "W\n",
            "o\n",
            "r\n",
            "l\n",
            "d\n"
          ],
          "name": "stdout"
        }
      ]
    },
    {
      "cell_type": "code",
      "metadata": {
        "id": "K6W1SDc9oSpg",
        "colab_type": "code",
        "colab": {
          "base_uri": "https://localhost:8080/",
          "height": 202
        },
        "outputId": "00250c28-84a6-4514-d9e3-a81f18b2773d"
      },
      "source": [
        "mystring='Hello World'\n",
        "\n",
        "for _ in mystring: #Soooo Gooddddd\n",
        "  print('akshar')"
      ],
      "execution_count": null,
      "outputs": [
        {
          "output_type": "stream",
          "text": [
            "akshar\n",
            "akshar\n",
            "akshar\n",
            "akshar\n",
            "akshar\n",
            "akshar\n",
            "akshar\n",
            "akshar\n",
            "akshar\n",
            "akshar\n",
            "akshar\n"
          ],
          "name": "stdout"
        }
      ]
    },
    {
      "cell_type": "code",
      "metadata": {
        "id": "a_FZoZ6SolgI",
        "colab_type": "code",
        "colab": {
          "base_uri": "https://localhost:8080/",
          "height": 67
        },
        "outputId": "f73d336c-5d93-471e-d497-1a56e4f69982"
      },
      "source": [
        "tup=(1,2,3)\n",
        "\n",
        "for _ in tup:\n",
        "  print(_)\n"
      ],
      "execution_count": null,
      "outputs": [
        {
          "output_type": "stream",
          "text": [
            "1\n",
            "2\n",
            "3\n"
          ],
          "name": "stdout"
        }
      ]
    },
    {
      "cell_type": "code",
      "metadata": {
        "id": "6V8R1IqJpAA-",
        "colab_type": "code",
        "colab": {}
      },
      "source": [
        "mylist=[(1,2),(3,4),(5,6),(7,8)]"
      ],
      "execution_count": null,
      "outputs": []
    },
    {
      "cell_type": "code",
      "metadata": {
        "id": "wmijAWtqpUni",
        "colab_type": "code",
        "colab": {
          "base_uri": "https://localhost:8080/",
          "height": 34
        },
        "outputId": "0d250daa-6aca-4459-a8b8-4d5f88fed2e8"
      },
      "source": [
        "len(mylist)"
      ],
      "execution_count": null,
      "outputs": [
        {
          "output_type": "execute_result",
          "data": {
            "text/plain": [
              "4"
            ]
          },
          "metadata": {
            "tags": []
          },
          "execution_count": 20
        }
      ]
    },
    {
      "cell_type": "code",
      "metadata": {
        "id": "KFbNeQqSpWFZ",
        "colab_type": "code",
        "colab": {
          "base_uri": "https://localhost:8080/",
          "height": 84
        },
        "outputId": "6b54a35d-3337-4d01-d56a-1be12b1f3ccf"
      },
      "source": [
        "for item in mylist:\n",
        "  print(item)"
      ],
      "execution_count": null,
      "outputs": [
        {
          "output_type": "stream",
          "text": [
            "(1, 2)\n",
            "(3, 4)\n",
            "(5, 6)\n",
            "(7, 8)\n"
          ],
          "name": "stdout"
        }
      ]
    },
    {
      "cell_type": "code",
      "metadata": {
        "id": "_oH8Ole6paV4",
        "colab_type": "code",
        "colab": {
          "base_uri": "https://localhost:8080/",
          "height": 151
        },
        "outputId": "672d0375-5173-454b-efe3-07d817a4cc62"
      },
      "source": [
        "for (a,b) in mylist:#can also be done without parenthesis\n",
        "  print(a)\n",
        "  print(b)\n",
        "#This concept is called Tuple unpacking Where you kind of duplicate the structure of the items."
      ],
      "execution_count": null,
      "outputs": [
        {
          "output_type": "stream",
          "text": [
            "1\n",
            "2\n",
            "3\n",
            "4\n",
            "5\n",
            "6\n",
            "7\n",
            "8\n"
          ],
          "name": "stdout"
        }
      ]
    },
    {
      "cell_type": "code",
      "metadata": {
        "id": "_1Y0I0oCpp9l",
        "colab_type": "code",
        "colab": {}
      },
      "source": [
        "mylist =[(1,2,3),(5,6,7),(8,9,10)]"
      ],
      "execution_count": null,
      "outputs": []
    },
    {
      "cell_type": "code",
      "metadata": {
        "id": "Sr9hUt3oqVo3",
        "colab_type": "code",
        "colab": {
          "base_uri": "https://localhost:8080/",
          "height": 67
        },
        "outputId": "aaf6f753-5d6e-4cb2-8776-16a58bac6ee9"
      },
      "source": [
        "for item in mylist:\n",
        "  print(item)\n"
      ],
      "execution_count": null,
      "outputs": [
        {
          "output_type": "stream",
          "text": [
            "(1, 2, 3)\n",
            "(5, 6, 7)\n",
            "(8, 9, 10)\n"
          ],
          "name": "stdout"
        }
      ]
    },
    {
      "cell_type": "code",
      "metadata": {
        "id": "IFP8QPb4qbUA",
        "colab_type": "code",
        "colab": {
          "base_uri": "https://localhost:8080/",
          "height": 67
        },
        "outputId": "466bc4fd-3dc3-4b16-8216-67b3f874f176"
      },
      "source": [
        "for a,b,c in mylist:\n",
        "  print(b)\n"
      ],
      "execution_count": null,
      "outputs": [
        {
          "output_type": "stream",
          "text": [
            "2\n",
            "6\n",
            "9\n"
          ],
          "name": "stdout"
        }
      ]
    },
    {
      "cell_type": "code",
      "metadata": {
        "id": "ZinjsSBlqheh",
        "colab_type": "code",
        "colab": {
          "base_uri": "https://localhost:8080/",
          "height": 67
        },
        "outputId": "3677fb0f-e526-4fef-d484-96bb714e530c"
      },
      "source": [
        "d ={'k1':1,'k2':2,'k3':3}\n",
        "\n",
        "for item in d:\n",
        "  print(item)"
      ],
      "execution_count": null,
      "outputs": [
        {
          "output_type": "stream",
          "text": [
            "k1\n",
            "k2\n",
            "k3\n"
          ],
          "name": "stdout"
        }
      ]
    },
    {
      "cell_type": "code",
      "metadata": {
        "id": "xipqfOv_qzaw",
        "colab_type": "code",
        "colab": {
          "base_uri": "https://localhost:8080/",
          "height": 67
        },
        "outputId": "4ea2ab87-f14d-431c-d5e4-c6eb387c4aad"
      },
      "source": [
        "#but for dictionary items\n",
        "d ={'k1':1,'k2':2,'k3':3}\n",
        "\n",
        "for item in d.items():\n",
        "  print(item)"
      ],
      "execution_count": null,
      "outputs": [
        {
          "output_type": "stream",
          "text": [
            "('k1', 1)\n",
            "('k2', 2)\n",
            "('k3', 3)\n"
          ],
          "name": "stdout"
        }
      ]
    },
    {
      "cell_type": "code",
      "metadata": {
        "id": "Xk9jcuOgrU8x",
        "colab_type": "code",
        "colab": {
          "base_uri": "https://localhost:8080/",
          "height": 67
        },
        "outputId": "2f6476db-ee92-4143-85f2-d9d0cf5a67f2"
      },
      "source": [
        "d ={'k1':1,'k2':2,'k3':3}\n",
        "\n",
        "for key,value in d.items():#tuple unpacking\n",
        "  print(value)"
      ],
      "execution_count": null,
      "outputs": [
        {
          "output_type": "stream",
          "text": [
            "1\n",
            "2\n",
            "3\n"
          ],
          "name": "stdout"
        }
      ]
    },
    {
      "cell_type": "code",
      "metadata": {
        "id": "kCtEbar7rhCM",
        "colab_type": "code",
        "colab": {
          "base_uri": "https://localhost:8080/",
          "height": 67
        },
        "outputId": "3746157f-d06c-48fd-f5cc-5b0980f78422"
      },
      "source": [
        "d ={'k1':1,'k2':2,'k3':3}\n",
        "\n",
        "for value in d.values():#tuple unpacking\n",
        "  print(value)"
      ],
      "execution_count": null,
      "outputs": [
        {
          "output_type": "stream",
          "text": [
            "1\n",
            "2\n",
            "3\n"
          ],
          "name": "stdout"
        }
      ]
    },
    {
      "cell_type": "code",
      "metadata": {
        "id": "fVUw0ML5rz8p",
        "colab_type": "code",
        "colab": {}
      },
      "source": [
        ""
      ],
      "execution_count": null,
      "outputs": []
    }
  ]
}