{
  "nbformat": 4,
  "nbformat_minor": 0,
  "metadata": {
    "colab": {
      "name": "While Loops in Python",
      "provenance": [],
      "collapsed_sections": [],
      "authorship_tag": "ABX9TyMxEkH9ImbKWMgwyoqMP7As",
      "include_colab_link": true
    },
    "kernelspec": {
      "name": "python3",
      "display_name": "Python 3"
    }
  },
  "cells": [
    {
      "cell_type": "markdown",
      "metadata": {
        "id": "view-in-github",
        "colab_type": "text"
      },
      "source": [
        "<a href=\"https://colab.research.google.com/github/Anurag-0-1-A/MYPNYBs/blob/master/Python_Statements/While_Loops_in_Python.ipynb\" target=\"_parent\"><img src=\"https://colab.research.google.com/assets/colab-badge.svg\" alt=\"Open In Colab\"/></a>"
      ]
    },
    {
      "cell_type": "code",
      "metadata": {
        "id": "O3KsdNrGDQLY",
        "colab_type": "code",
        "colab": {
          "base_uri": "https://localhost:8080/",
          "height": 34
        },
        "outputId": "c54777ee-19ff-45fe-f569-500b0a1edc13"
      },
      "source": [
        "x=50\n",
        "while x<5:\n",
        "  print(f'The current value of x is {x}')\n",
        "  \n",
        "  x+=1\n",
        "else:\n",
        "  print(\"X IS NOT LESS THAN 5\")"
      ],
      "execution_count": null,
      "outputs": [
        {
          "output_type": "stream",
          "text": [
            "X IS NOT LESS THAN 5\n"
          ],
          "name": "stdout"
        }
      ]
    },
    {
      "cell_type": "code",
      "metadata": {
        "id": "99UhjIpnEnjT",
        "colab_type": "code",
        "colab": {}
      },
      "source": [
        "#break(breaks the closest enclosng loop) , continue(goes to the top of closest enclosing loop) ,pass(does nothing at all)"
      ],
      "execution_count": null,
      "outputs": []
    },
    {
      "cell_type": "code",
      "metadata": {
        "id": "QxfJsu51I7Eu",
        "colab_type": "code",
        "colab": {
          "base_uri": "https://localhost:8080/",
          "height": 34
        },
        "outputId": "294f660e-0d63-446d-dbc9-7b229b160a79"
      },
      "source": [
        "x=[1,2,3]\n",
        "for item in x:\n",
        "  pass                          #important to write something in this line\n",
        "print('End of my script')  "
      ],
      "execution_count": null,
      "outputs": [
        {
          "output_type": "stream",
          "text": [
            "End of my script\n"
          ],
          "name": "stdout"
        }
      ]
    },
    {
      "cell_type": "code",
      "metadata": {
        "id": "vL-B-_eOJAH2",
        "colab_type": "code",
        "colab": {}
      },
      "source": [
        "mystring ='Anurag'"
      ],
      "execution_count": null,
      "outputs": []
    },
    {
      "cell_type": "code",
      "metadata": {
        "id": "v94if7GlNC_M",
        "colab_type": "code",
        "colab": {
          "base_uri": "https://localhost:8080/",
          "height": 101
        },
        "outputId": "69d5b4e8-65c2-4a3b-9ab4-3ab1d7ed1056"
      },
      "source": [
        "for letter in mystring:\n",
        "  if letter =='a':\n",
        "    continue\n",
        "  print(letter)"
      ],
      "execution_count": null,
      "outputs": [
        {
          "output_type": "stream",
          "text": [
            "A\n",
            "n\n",
            "u\n",
            "r\n",
            "g\n"
          ],
          "name": "stdout"
        }
      ]
    },
    {
      "cell_type": "code",
      "metadata": {
        "id": "VuhmxEoENID6",
        "colab_type": "code",
        "colab": {
          "base_uri": "https://localhost:8080/",
          "height": 84
        },
        "outputId": "f0ec14ab-aa2c-49fe-9800-e818c890762f"
      },
      "source": [
        "for letter in mystring:\n",
        "  if letter =='a':\n",
        "    break\n",
        "  print(letter)"
      ],
      "execution_count": null,
      "outputs": [
        {
          "output_type": "stream",
          "text": [
            "A\n",
            "n\n",
            "u\n",
            "r\n"
          ],
          "name": "stdout"
        }
      ]
    },
    {
      "cell_type": "code",
      "metadata": {
        "id": "gHyrUmnJNo-t",
        "colab_type": "code",
        "colab": {
          "base_uri": "https://localhost:8080/",
          "height": 50
        },
        "outputId": "09991a65-07f5-4528-f5fc-e19beb289171"
      },
      "source": [
        "x=0\n",
        "while x<5:\n",
        "  if x==2:\n",
        "    break\n",
        "\n",
        "  print(x)\n",
        "  x+=1"
      ],
      "execution_count": null,
      "outputs": [
        {
          "output_type": "stream",
          "text": [
            "0\n",
            "1\n"
          ],
          "name": "stdout"
        }
      ]
    },
    {
      "cell_type": "code",
      "metadata": {
        "id": "r2zCP6cpNyC2",
        "colab_type": "code",
        "colab": {}
      },
      "source": [
        ""
      ],
      "execution_count": null,
      "outputs": []
    }
  ]
}