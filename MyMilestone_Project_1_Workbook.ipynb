{
  "nbformat": 4,
  "nbformat_minor": 0,
  "metadata": {
    "kernelspec": {
      "display_name": "Python 3",
      "language": "python",
      "name": "python3"
    },
    "language_info": {
      "codemirror_mode": {
        "name": "ipython",
        "version": 3
      },
      "file_extension": ".py",
      "mimetype": "text/x-python",
      "name": "python",
      "nbconvert_exporter": "python",
      "pygments_lexer": "ipython3",
      "version": "3.6.2"
    },
    "colab": {
      "name": "MyMilestone Project 1  Workbook.ipynb",
      "provenance": [],
      "collapsed_sections": [],
      "include_colab_link": true
    }
  },
  "cells": [
    {
      "cell_type": "markdown",
      "metadata": {
        "id": "view-in-github",
        "colab_type": "text"
      },
      "source": [
        "<a href=\"https://colab.research.google.com/github/Anurag-0-1-A/MYPNYBs/blob/master/MyMilestone_Project_1_Workbook.ipynb\" target=\"_parent\"><img src=\"https://colab.research.google.com/assets/colab-badge.svg\" alt=\"Open In Colab\"/></a>"
      ]
    },
    {
      "cell_type": "markdown",
      "metadata": {
        "id": "WakHU5YhG34Z",
        "colab_type": "text"
      },
      "source": [
        "# Milestone Project 1: Walkthrough Steps Workbook\n",
        "\n",
        "Below is a set of steps for you to follow to try to create the Tic Tac Toe Milestone Project game!"
      ]
    },
    {
      "cell_type": "markdown",
      "metadata": {
        "id": "g0WjHVAaG34f",
        "colab_type": "text"
      },
      "source": [
        "#### Some suggested tools before you get started:\n",
        "To take input from a user:\n",
        "\n",
        "    player1 = input(\"Please pick a marker 'X' or 'O'\")\n",
        "    \n",
        "Note that input() takes in a string. If you need an integer value, use\n",
        "\n",
        "    position = int(input('Please enter a number'))\n",
        "    \n",
        "<br>To clear the screen between moves:\n",
        "\n",
        "    from IPython.display import clear_output\n",
        "    clear_output()\n",
        "    \n",
        "Note that clear_output() will only work in jupyter. To clear the screen in other IDEs, consider:\n",
        "\n",
        "    print('\\n'*100)\n",
        "    \n",
        "This scrolls the previous board up out of view. Now on to the program!"
      ]
    },
    {
      "cell_type": "markdown",
      "metadata": {
        "id": "EEkCvqodG34i",
        "colab_type": "text"
      },
      "source": [
        "**Step 1: Write a function that can print out a board. Set up your board as a list, where each index 1-9 corresponds with a number on a number pad, so you get a 3 by 3 board representation.**"
      ]
    },
    {
      "cell_type": "code",
      "metadata": {
        "id": "s8w27UmYG34k",
        "colab_type": "code",
        "colab": {}
      },
      "source": [
        "from IPython.display import clear_output\n",
        "board=[]\n",
        "def display_board(board):\n",
        "    \n",
        "    print(board[1]+\"|\"+board[2]+\"|\"+board[3])\n",
        "    print(\"_____\")\n",
        "    print(board[4]+\"|\"+board[5]+\"|\"+board[6])\n",
        "    print(\"_____\")\n",
        "    print(board[7]+\"|\"+board[8]+\"|\"+board[9])"
      ],
      "execution_count": null,
      "outputs": []
    },
    {
      "cell_type": "markdown",
      "metadata": {
        "id": "nUoW9gCPG34s",
        "colab_type": "text"
      },
      "source": [
        "**TEST Step 1:** run your function on a test version of the board list, and make adjustments as necessary"
      ]
    },
    {
      "cell_type": "code",
      "metadata": {
        "id": "ZHHgtw9dG34u",
        "colab_type": "code",
        "colab": {
          "base_uri": "https://localhost:8080/",
          "height": 100
        },
        "outputId": "46f6dd31-dc00-4eed-e5d0-e2b872ea0362"
      },
      "source": [
        "test_board = ['#','1','2','3','4','5','6','7','8','9']\n",
        "display_board(test_board)"
      ],
      "execution_count": null,
      "outputs": [
        {
          "output_type": "stream",
          "text": [
            "1|2|3\n",
            "_____\n",
            "4|5|6\n",
            "_____\n",
            "7|8|9\n"
          ],
          "name": "stdout"
        }
      ]
    },
    {
      "cell_type": "markdown",
      "metadata": {
        "id": "VjRX9IMbG341",
        "colab_type": "text"
      },
      "source": [
        "**Step 2: Write a function that can take in a player input and assign their marker as 'X' or 'O'. Think about using *while* loops to continually ask until you get a correct answer.**"
      ]
    },
    {
      "cell_type": "code",
      "metadata": {
        "id": "0QbwrfbBG343",
        "colab_type": "code",
        "colab": {}
      },
      "source": [
        "def player_input():\n",
        "  '''\n",
        "  #ye sirf player1 and player2 ko unke hathiyaar dene ke liye hain   \n",
        " \n",
        "  '''\n",
        "  marker=''\n",
        "  while not(marker =='X' or marker == 'O'):\n",
        "    marker=input(\"Choose between X and O :\").upper()\n",
        "  if marker == 'X':\n",
        "    player1=\"X\"\n",
        "    player2=\"O\"\n",
        "    print(f\"Player 1 = {player1} and Player 2 = {player2}\")\n",
        "  else:\n",
        "    player1=\"O\"\n",
        "    player2=\"X\"  \n",
        "    print(f\"Player 1 = {player1} and Player 2 = {player2}\")\n",
        "  \n",
        "  return player1, player2 \n",
        "    \n",
        "    "
      ],
      "execution_count": null,
      "outputs": []
    },
    {
      "cell_type": "markdown",
      "metadata": {
        "id": "xz1vBjJUG348",
        "colab_type": "text"
      },
      "source": [
        "**TEST Step 2:** run the function to make sure it returns the desired output"
      ]
    },
    {
      "cell_type": "code",
      "metadata": {
        "id": "XTCjWWUzG35D",
        "colab_type": "code",
        "colab": {
          "base_uri": "https://localhost:8080/",
          "height": 67
        },
        "outputId": "44f3ef97-e1e4-41f7-feff-7bc97c18df65"
      },
      "source": [
        "player_input()"
      ],
      "execution_count": null,
      "outputs": [
        {
          "output_type": "stream",
          "text": [
            "Choose between X and O :X\n",
            "Player 1 = X and Player 2 = O\n"
          ],
          "name": "stdout"
        },
        {
          "output_type": "execute_result",
          "data": {
            "text/plain": [
              "('X', 'O')"
            ]
          },
          "metadata": {
            "tags": []
          },
          "execution_count": 22
        }
      ]
    },
    {
      "cell_type": "markdown",
      "metadata": {
        "id": "6cwxvTSbkwHg",
        "colab_type": "text"
      },
      "source": [
        ""
      ]
    },
    {
      "cell_type": "markdown",
      "metadata": {
        "id": "yWXhyQZYG35J",
        "colab_type": "text"
      },
      "source": [
        "**Step 3: Write a function that takes in the board list object, a marker ('X' or 'O'), and a desired position (number 1-9) and assigns it to the board.**"
      ]
    },
    {
      "cell_type": "code",
      "metadata": {
        "id": "9-T7DxLuG35L",
        "colab_type": "code",
        "colab": {}
      },
      "source": [
        "\n",
        "def place_marker(board, marker, position):\n",
        "    \n",
        "    board[position]=marker\n",
        "#konsi position pe x ya o rakhna hai uske liye"
      ],
      "execution_count": null,
      "outputs": []
    },
    {
      "cell_type": "markdown",
      "metadata": {
        "id": "8MXT-UUTG35Q",
        "colab_type": "text"
      },
      "source": [
        "**TEST Step 3:** run the place marker function using test parameters and display the modified board"
      ]
    },
    {
      "cell_type": "code",
      "metadata": {
        "id": "7x-T5xQvG35S",
        "colab_type": "code",
        "colab": {
          "base_uri": "https://localhost:8080/",
          "height": 100
        },
        "outputId": "3aa813d5-16d2-4dd6-f6e4-d885d9274104"
      },
      "source": [
        "place_marker(test_board,'X',8)\n",
        "display_board(test_board)\n",
        "#place_marker ko display Karwana"
      ],
      "execution_count": null,
      "outputs": [
        {
          "output_type": "stream",
          "text": [
            "1|2|3\n",
            "_____\n",
            "4|5|6\n",
            "_____\n",
            "7|X|9\n"
          ],
          "name": "stdout"
        }
      ]
    },
    {
      "cell_type": "markdown",
      "metadata": {
        "id": "6VHkIRf2G35a",
        "colab_type": "text"
      },
      "source": [
        "**Step 4: Write a function that takes in a board and a mark (X or O) and then checks to see if that mark has won. **"
      ]
    },
    {
      "cell_type": "code",
      "metadata": {
        "id": "BUaFgNS6G35b",
        "colab_type": "code",
        "colab": {}
      },
      "source": [
        "def win_check(board, marker):\n",
        "  '''\n",
        "  #winning condition\n",
        "\n",
        "  '''\n",
        "  return((board[1]==board[2]==board[3]==marker) or \n",
        "           (board[4]==board[5]==board[6]==marker) or \n",
        "           (board[7]==board[8]==board[9]==marker) or \n",
        "           (board[1]==board[4]==board[7]==marker) or \n",
        "           (board[2]==board[5]==board[8]==marker) or \n",
        "           (board[3]==board[6]==board[9]==marker) or \n",
        "           (board[1]==board[5]==board[9]==marker) or \n",
        "           (board[3]==board[5]==board[7]==marker))\n",
        "    "
      ],
      "execution_count": null,
      "outputs": []
    },
    {
      "cell_type": "markdown",
      "metadata": {
        "id": "yvp3b3QTG35l",
        "colab_type": "text"
      },
      "source": [
        "**TEST Step 4:** run the win_check function against our test_board - it should return True"
      ]
    },
    {
      "cell_type": "code",
      "metadata": {
        "id": "Z_A3pkDc2bvg",
        "colab_type": "code",
        "colab": {
          "base_uri": "https://localhost:8080/",
          "height": 33
        },
        "outputId": "5904b5de-6db3-4cd5-9e7a-36ac2a0864da"
      },
      "source": [
        "win_check(test_board,'X')"
      ],
      "execution_count": null,
      "outputs": [
        {
          "output_type": "execute_result",
          "data": {
            "text/plain": [
              "False"
            ]
          },
          "metadata": {
            "tags": []
          },
          "execution_count": 26
        }
      ]
    },
    {
      "cell_type": "code",
      "metadata": {
        "id": "Zua9wamIG35o",
        "colab_type": "code",
        "colab": {
          "base_uri": "https://localhost:8080/",
          "height": 100
        },
        "outputId": "7bcfb7a1-211a-4157-f195-344ede2190f8"
      },
      "source": [
        "display_board(test_board)\n",
        "#ye win_check karega and uss hisab se display_board karega"
      ],
      "execution_count": null,
      "outputs": [
        {
          "output_type": "stream",
          "text": [
            "1|2|3\n",
            "_____\n",
            "4|5|6\n",
            "_____\n",
            "7|X|9\n"
          ],
          "name": "stdout"
        }
      ]
    },
    {
      "cell_type": "markdown",
      "metadata": {
        "id": "hvvinynPG35s",
        "colab_type": "text"
      },
      "source": [
        "**Step 5: Write a function that uses the random module to randomly decide which player goes first. You may want to lookup random.randint() Return a string of which player went first.**"
      ]
    },
    {
      "cell_type": "code",
      "metadata": {
        "id": "gXD-7HakG35t",
        "colab_type": "code",
        "colab": {}
      },
      "source": [
        "import random\n",
        "\n",
        "def choose_first():\n",
        "    flip =random.randint(0,1)#I didnt knew that\n",
        "    if flip ==0:\n",
        "      return \"Player 1\"\n",
        "    else:\n",
        "      return \"Player 2\"\n",
        "  #ye just game ka shreeganesh karne ke liye hai"
      ],
      "execution_count": null,
      "outputs": []
    },
    {
      "cell_type": "markdown",
      "metadata": {
        "id": "xWX28ZchG35x",
        "colab_type": "text"
      },
      "source": [
        "**Step 6: Write a function that returns a boolean indicating whether a space on the board is freely available.**"
      ]
    },
    {
      "cell_type": "code",
      "metadata": {
        "id": "2zVA5c7fG35y",
        "colab_type": "code",
        "colab": {}
      },
      "source": [
        "def space_check(board, position):\n",
        "\n",
        "  return board[position]==' '    \n",
        "    "
      ],
      "execution_count": null,
      "outputs": []
    },
    {
      "cell_type": "markdown",
      "metadata": {
        "id": "PmhUUWC2G351",
        "colab_type": "text"
      },
      "source": [
        "**Step 7: Write a function that checks if the board is full and returns a boolean value. True if full, False otherwise.**"
      ]
    },
    {
      "cell_type": "code",
      "metadata": {
        "id": "aEEYCrdoG352",
        "colab_type": "code",
        "colab": {}
      },
      "source": [
        "def full_board_check(board):\n",
        "    \n",
        "    if \" \" in board[1:]:\n",
        "      return False\n",
        "    else:\n",
        "      return True"
      ],
      "execution_count": null,
      "outputs": []
    },
    {
      "cell_type": "markdown",
      "metadata": {
        "id": "AktyXQAcG357",
        "colab_type": "text"
      },
      "source": [
        "**Step 8: Write a function that asks for a player's next position (as a number 1-9) and then uses the function from step 6 to check if it's a free position. If it is, then return the position for later use.**"
      ]
    },
    {
      "cell_type": "code",
      "metadata": {
        "id": "QtcC9Y-GG358",
        "colab_type": "code",
        "colab": {}
      },
      "source": [
        "def player_choice(board):\n",
        "\n",
        "  position =0\n",
        "\n",
        "  while position not in [1,2,3,4,5,6,7,8,9] or not space_check(board, position):\n",
        "    position=int(input(\"Enter your next move [1-9]\"))\n",
        "  \n",
        "  return position\n",
        "  \n",
        "    \n",
        "\n",
        "#player k move ki choice pata karta hai    "
      ],
      "execution_count": null,
      "outputs": []
    },
    {
      "cell_type": "markdown",
      "metadata": {
        "id": "k6JB6okxG36C",
        "colab_type": "text"
      },
      "source": [
        "**Step 9: Write a function that asks the player if they want to play again and returns a boolean True if they do want to play again.**"
      ]
    },
    {
      "cell_type": "code",
      "metadata": {
        "id": "Kb9y_BpsG36D",
        "colab_type": "code",
        "colab": {}
      },
      "source": [
        "def replay():\n",
        "    \n",
        "    d=input(\"'Y' or 'N' for playing the game again \")\n",
        "    if d=='Y':\n",
        "      return True\n",
        "    else:\n",
        "      return False"
      ],
      "execution_count": null,
      "outputs": []
    },
    {
      "cell_type": "markdown",
      "metadata": {
        "collapsed": true,
        "id": "b3Cq_UfWG36K",
        "colab_type": "text"
      },
      "source": [
        "**Step 10: Here comes the hard part! Use while loops and the functions you've made to run the game!**"
      ]
    },
    {
      "cell_type": "code",
      "metadata": {
        "id": "bKOowyX1G36M",
        "colab_type": "code",
        "colab": {}
      },
      "source": [
        "from IPython.display import clear_output\n",
        " \n",
        "position=0\n",
        "print('Welcome to Tic Tac Toe!')\n",
        " \n",
        "while True:\n",
        "  # Set the game up here\n",
        "  board=[' ']*10\n",
        "  #inputting\n",
        "  p1_m,p2_m = player_input()\n",
        "  #displaying the test board\n",
        "  display_board(board)\n",
        "  #now choosing the player\n",
        "  cf=choose_first()\n",
        "  \n",
        "  \n",
        "  \n",
        "  game_play=input(\"Ready to play ?'Y' or 'N' : \").upper\n",
        "  if game_play[0] == \"Y\":\n",
        "    game_on=True\n",
        "  elif game_play[0] == \"N\":\n",
        "    game_on=False\n",
        " \n",
        "  while game_on:\n",
        "    \n",
        "    if cf==\"Player 1\":\n",
        "      print(cf+\" going first\")\n",
        "      \n",
        "    \n",
        "      ##while game_on:\n",
        "      #Player 1 Turn\n",
        "      display_board(board)\n",
        "      position=player_choice(board)\n",
        "      place_marker(board,p1_m,position)\n",
        " \n",
        "      if full_board_check(board)==False:\n",
        "        if win_check(board,p1_m):\n",
        "          display_board(board)\n",
        "          print(\"Player 1 wins\")\n",
        "          game_on=False\n",
        "        else:\n",
        "          if full_board_check(board)==True:\n",
        "            display_board(board)\n",
        "            print(\"TIE GAme!\")\n",
        "            game_on=False\n",
        "          else:\n",
        "            cf=\"Player 2\"\n",
        " \n",
        "      # Player2's turn.\n",
        "    else:\n",
        "      print(cf+\" going first\")\n",
        "    \n",
        "      \n",
        "      display_board(board)\n",
        "      position=player_choice(board)\n",
        "      place_marker(board,p2_m,position)\n",
        " \n",
        "      if full_board_check(board)==False:\n",
        "        if win_check(board,p2_m):\n",
        "          display_board(board)\n",
        "          print(\"Player 2 wins\")\n",
        "          game_on=False\n",
        "        else:\n",
        "          if full_board_check(board) == True:\n",
        "            display_board(board)\n",
        "            print(\"TIE GAme!\")\n",
        "            game_on=False\n",
        "          else:\n",
        "            cf=\"Player 1\"\n",
        " \n",
        "  \n",
        "  if not replay():\n",
        "    break"
      ],
      "execution_count": null,
      "outputs": []
    },
    {
      "cell_type": "code",
      "metadata": {
        "id": "PcGkPOC3iqlD",
        "colab_type": "code",
        "colab": {}
      },
      "source": [
        "from IPython.display import clear_output\n",
        " \n",
        "position=0\n",
        "print('Welcome to Tic Tac Toe!')\n",
        " \n",
        "while True:\n",
        "    # Set the game up here\n",
        "    board=[' ']*10\n",
        "    #inputting\n",
        "    p1_m,p2_m = player_input() # grabbing the values i'm returning from player_input()\n",
        "    #displaying the test board\n",
        "    clear_output()\n",
        "    display_board(board)\n",
        "    #now choosing the player\n",
        "    cf=choose_first()\n",
        " \n",
        " \n",
        " \n",
        "    game_play=input(\"Ready to play ?'Y' or 'N' : \").upper() #returning an upper case word\n",
        "    \n",
        "    if game_play[0] == \"Y\": # checking if the first letter is an Y        \n",
        "        game_on=True\n",
        "    elif game_play[0] == \"N\": #checking if the first letter is an N\n",
        "        game_on=False\n",
        " \n",
        "    while game_on:\n",
        " \n",
        "        if cf==\"Player 1\":\n",
        "            print(cf+\" going first\")\n",
        " \n",
        " \n",
        "            ##while game_on:\n",
        "            #Player 1 Turn\n",
        "            clear_output()\n",
        "            display_board(board)\n",
        "            position=player_choice(board)\n",
        "            place_marker(board,p1_m,position)\n",
        " \n",
        "            if full_board_check(board)==False: # changed from while to if\n",
        "                if win_check(board,p1_m):\n",
        "                    clear_output()\n",
        "                    display_board(board)\n",
        "                    print(\"Player 1 wins\")\n",
        "                    game_on=False\n",
        "                else:\n",
        "                    if full_board_check(board):\n",
        "                        clear_output()\n",
        "                        display_board(board)\n",
        "                        print(\"TIE GAme!\")\n",
        "                        game_on=False\n",
        "                        break\n",
        "                    else:\n",
        "                        cf=\"Player 2\" # changed from turn to cf\n",
        " \n",
        "            # Player2's turn.\n",
        "        else:\n",
        "            print(cf+\" going first\")\n",
        " \n",
        "            clear_output()\n",
        "            display_board(board)\n",
        "            position=player_choice(board)\n",
        "            place_marker(board,p2_m,position)\n",
        " \n",
        "            if full_board_check(board)==False: # changed from while to if\n",
        "                if win_check(board,p2_m):\n",
        "                    clear_output()\n",
        "                    display_board(board) #changed from test_board to board\n",
        "                    print(\"Player 2 wins\")\n",
        "                    game_on=False\n",
        "                else:\n",
        "                    if full_board_check(board):\n",
        "                        clear_output()\n",
        "                        display_board(board)\n",
        "                        print(\"TIE GAme!\")\n",
        "                        game_on=False\n",
        "                        break\n",
        "                    else:\n",
        "                        cf=\"Player 1\" # changed from turn to cf\n",
        " \n",
        " \n",
        "    if not replay(): # changed the indentation to one tab back\n",
        "        break   "
      ],
      "execution_count": null,
      "outputs": []
    },
    {
      "cell_type": "markdown",
      "metadata": {
        "collapsed": true,
        "id": "flADijWZG36Z",
        "colab_type": "text"
      },
      "source": [
        "## Good Job!"
      ]
    }
  ]
}