{
  "nbformat": 4,
  "nbformat_minor": 0,
  "metadata": {
    "colab": {
      "name": "Shri.ipynb",
      "provenance": [],
      "collapsed_sections": [],
      "authorship_tag": "ABX9TyOwEcU2wbzhw0oR3rKKP+7H",
      "include_colab_link": true
    },
    "kernelspec": {
      "name": "python3",
      "display_name": "Python 3"
    }
  },
  "cells": [
    {
      "cell_type": "markdown",
      "metadata": {
        "id": "view-in-github",
        "colab_type": "text"
      },
      "source": [
        "<a href=\"https://colab.research.google.com/github/Anurag-0-1-A/MYPNYBs/blob/master/Shri.ipynb\" target=\"_parent\"><img src=\"https://colab.research.google.com/assets/colab-badge.svg\" alt=\"Open In Colab\"/></a>"
      ]
    },
    {
      "cell_type": "code",
      "metadata": {
        "colab": {
          "base_uri": "https://localhost:8080/"
        },
        "id": "qP9BtgVTn-Pp",
        "outputId": "889ccee9-b251-4a2e-dc7e-b5a5050abfc5"
      },
      "source": [
        "pip install tweepy"
      ],
      "execution_count": null,
      "outputs": [
        {
          "output_type": "stream",
          "text": [
            "Requirement already satisfied: tweepy in /usr/local/lib/python3.6/dist-packages (3.6.0)\n",
            "Requirement already satisfied: requests>=2.11.1 in /usr/local/lib/python3.6/dist-packages (from tweepy) (2.23.0)\n",
            "Requirement already satisfied: six>=1.10.0 in /usr/local/lib/python3.6/dist-packages (from tweepy) (1.15.0)\n",
            "Requirement already satisfied: PySocks>=1.5.7 in /usr/local/lib/python3.6/dist-packages (from tweepy) (1.7.1)\n",
            "Requirement already satisfied: requests-oauthlib>=0.7.0 in /usr/local/lib/python3.6/dist-packages (from tweepy) (1.3.0)\n",
            "Requirement already satisfied: urllib3!=1.25.0,!=1.25.1,<1.26,>=1.21.1 in /usr/local/lib/python3.6/dist-packages (from requests>=2.11.1->tweepy) (1.24.3)\n",
            "Requirement already satisfied: chardet<4,>=3.0.2 in /usr/local/lib/python3.6/dist-packages (from requests>=2.11.1->tweepy) (3.0.4)\n",
            "Requirement already satisfied: idna<3,>=2.5 in /usr/local/lib/python3.6/dist-packages (from requests>=2.11.1->tweepy) (2.10)\n",
            "Requirement already satisfied: certifi>=2017.4.17 in /usr/local/lib/python3.6/dist-packages (from requests>=2.11.1->tweepy) (2020.12.5)\n",
            "Requirement already satisfied: oauthlib>=3.0.0 in /usr/local/lib/python3.6/dist-packages (from requests-oauthlib>=0.7.0->tweepy) (3.1.0)\n"
          ],
          "name": "stdout"
        }
      ]
    },
    {
      "cell_type": "code",
      "metadata": {
        "id": "-rvM6cLToEbj"
      },
      "source": [
        "import tweepy\r\n",
        "import time"
      ],
      "execution_count": null,
      "outputs": []
    },
    {
      "cell_type": "code",
      "metadata": {
        "id": "53AYMducLId5"
      },
      "source": [
        "consumer_key='xyzkWr92ulECgCTSw1OgfvAXMmHh'\r\n",
        "consumer_secret='xyzeEjdnnw5j5cPm2VeU4x0JDWjn5zLM5PIvGKjl1nlE82v4K3jCW'\r\n",
        "\r\n",
        "key='1231340238262221164544-83v1P5QexQSnDncShiLhqw8FIOrMks'\r\n",
        "secret='xyzKLukXqYzb9DAsmwMtz7WGYL1YXdqR1mK39VaQ3YYzkIAF'"
      ],
      "execution_count": null,
      "outputs": []
    },
    {
      "cell_type": "code",
      "metadata": {
        "id": "eiHXKQ7DoRuj"
      },
      "source": [
        "auth = tweepy.OAuthHandler(consumer_key, consumer_secret)\r\n",
        "auth.set_access_token(key, secret)"
      ],
      "execution_count": null,
      "outputs": []
    },
    {
      "cell_type": "code",
      "metadata": {
        "id": "St2URLWJLG-I"
      },
      "source": [
        "#first automated tweet :)\r\n",
        "api = tweepy.API(auth)\r\n",
        "api.update_status('#2020_won yeaaaaa')"
      ],
      "execution_count": null,
      "outputs": []
    },
    {
      "cell_type": "code",
      "metadata": {
        "colab": {
          "base_uri": "https://localhost:8080/"
        },
        "id": "Qps01AI3PCvH",
        "outputId": "3ca63f16-edce-41e4-c94b-2d78c97eef5d"
      },
      "source": [
        "#whether somebody mentioned your name in their tweet\r\n",
        "tweets = api.mentions_timeline()\r\n",
        "#print(tweets)#reversechronological order\r\n",
        "print(tweets[0].text)\r\n"
      ],
      "execution_count": null,
      "outputs": [
        {
          "output_type": "stream",
          "text": [
            "@ShriShri001 Welcome #Shriman\n"
          ],
          "name": "stdout"
        }
      ]
    },
    {
      "cell_type": "code",
      "metadata": {
        "colab": {
          "base_uri": "https://localhost:8080/"
        },
        "id": "dw3YyrCQRSaQ",
        "outputId": "bb278cc8-c6df-45f4-9e14-70fa4e4693e0"
      },
      "source": [
        "print(tweets)"
      ],
      "execution_count": null,
      "outputs": [
        {
          "output_type": "stream",
          "text": [
            "[Status(_api=<tweepy.api.API object at 0x7fb5020ecc50>, _json={'created_at': 'Sat Dec 19 13:50:36 +0000 2020', 'id': 1340293460121714691, 'id_str': '1340293460121714691', 'text': '@ShriShri001 Welcome #Shri', 'truncated': False, 'entities': {'hashtags': [{'text': 'Shri', 'indices': [21, 26]}], 'symbols': [], 'user_mentions': [{'screen_name': 'ShriShri001', 'name': 'Shri', 'id': 1340238262221164544, 'id_str': '1340238262221164544', 'indices': [0, 12]}], 'urls': []}, 'source': '<a href=\"https://mobile.twitter.com\" rel=\"nofollow\">Twitter Web App</a>', 'in_reply_to_status_id': None, 'in_reply_to_status_id_str': None, 'in_reply_to_user_id': 1340238262221164544, 'in_reply_to_user_id_str': '1340238262221164544', 'in_reply_to_screen_name': 'ShriShri001', 'user': {'id': 1258650883266498560, 'id_str': '1258650883266498560', 'name': 'Anurag Sharma', 'screen_name': 'anurag01a', 'location': '', 'description': 'Explorer', 'url': None, 'entities': {'description': {'urls': []}}, 'protected': False, 'followers_count': 4, 'friends_count': 106, 'listed_count': 0, 'created_at': 'Fri May 08 06:52:35 +0000 2020', 'favourites_count': 1515, 'utc_offset': None, 'time_zone': None, 'geo_enabled': False, 'verified': False, 'statuses_count': 209, 'lang': None, 'contributors_enabled': False, 'is_translator': False, 'is_translation_enabled': False, 'profile_background_color': 'F5F8FA', 'profile_background_image_url': None, 'profile_background_image_url_https': None, 'profile_background_tile': False, 'profile_image_url': 'http://pbs.twimg.com/profile_images/1324013660872699904/VhnwXr9D_normal.jpg', 'profile_image_url_https': 'https://pbs.twimg.com/profile_images/1324013660872699904/VhnwXr9D_normal.jpg', 'profile_banner_url': 'https://pbs.twimg.com/profile_banners/1258650883266498560/1589530408', 'profile_link_color': '1DA1F2', 'profile_sidebar_border_color': 'C0DEED', 'profile_sidebar_fill_color': 'DDEEF6', 'profile_text_color': '333333', 'profile_use_background_image': True, 'has_extended_profile': False, 'default_profile': True, 'default_profile_image': False, 'following': False, 'follow_request_sent': False, 'notifications': False, 'translator_type': 'none'}, 'geo': None, 'coordinates': None, 'place': None, 'contributors': None, 'is_quote_status': False, 'retweet_count': 0, 'favorite_count': 0, 'favorited': False, 'retweeted': False, 'lang': 'en'}, created_at=datetime.datetime(2020, 12, 19, 13, 50, 36), id=1340293460121714691, id_str='1340293460121714691', text='@ShriShri001 Welcome #Shri', truncated=False, entities={'hashtags': [{'text': 'Shri', 'indices': [21, 26]}], 'symbols': [], 'user_mentions': [{'screen_name': 'ShriShri001', 'name': 'Shri', 'id': 1340238262221164544, 'id_str': '1340238262221164544', 'indices': [0, 12]}], 'urls': []}, source='Twitter Web App', source_url='https://mobile.twitter.com', in_reply_to_status_id=None, in_reply_to_status_id_str=None, in_reply_to_user_id=1340238262221164544, in_reply_to_user_id_str='1340238262221164544', in_reply_to_screen_name='ShriShri001', author=User(_api=<tweepy.api.API object at 0x7fb5020ecc50>, _json={'id': 1258650883266498560, 'id_str': '1258650883266498560', 'name': 'Anurag Sharma', 'screen_name': 'anurag01a', 'location': '', 'description': 'Explorer', 'url': None, 'entities': {'description': {'urls': []}}, 'protected': False, 'followers_count': 4, 'friends_count': 106, 'listed_count': 0, 'created_at': 'Fri May 08 06:52:35 +0000 2020', 'favourites_count': 1515, 'utc_offset': None, 'time_zone': None, 'geo_enabled': False, 'verified': False, 'statuses_count': 209, 'lang': None, 'contributors_enabled': False, 'is_translator': False, 'is_translation_enabled': False, 'profile_background_color': 'F5F8FA', 'profile_background_image_url': None, 'profile_background_image_url_https': None, 'profile_background_tile': False, 'profile_image_url': 'http://pbs.twimg.com/profile_images/1324013660872699904/VhnwXr9D_normal.jpg', 'profile_image_url_https': 'https://pbs.twimg.com/profile_images/1324013660872699904/VhnwXr9D_normal.jpg', 'profile_banner_url': 'https://pbs.twimg.com/profile_banners/1258650883266498560/1589530408', 'profile_link_color': '1DA1F2', 'profile_sidebar_border_color': 'C0DEED', 'profile_sidebar_fill_color': 'DDEEF6', 'profile_text_color': '333333', 'profile_use_background_image': True, 'has_extended_profile': False, 'default_profile': True, 'default_profile_image': False, 'following': False, 'follow_request_sent': False, 'notifications': False, 'translator_type': 'none'}, id=1258650883266498560, id_str='1258650883266498560', name='Anurag Sharma', screen_name='anurag01a', location='', description='Explorer', url=None, entities={'description': {'urls': []}}, protected=False, followers_count=4, friends_count=106, listed_count=0, created_at=datetime.datetime(2020, 5, 8, 6, 52, 35), favourites_count=1515, utc_offset=None, time_zone=None, geo_enabled=False, verified=False, statuses_count=209, lang=None, contributors_enabled=False, is_translator=False, is_translation_enabled=False, profile_background_color='F5F8FA', profile_background_image_url=None, profile_background_image_url_https=None, profile_background_tile=False, profile_image_url='http://pbs.twimg.com/profile_images/1324013660872699904/VhnwXr9D_normal.jpg', profile_image_url_https='https://pbs.twimg.com/profile_images/1324013660872699904/VhnwXr9D_normal.jpg', profile_banner_url='https://pbs.twimg.com/profile_banners/1258650883266498560/1589530408', profile_link_color='1DA1F2', profile_sidebar_border_color='C0DEED', profile_sidebar_fill_color='DDEEF6', profile_text_color='333333', profile_use_background_image=True, has_extended_profile=False, default_profile=True, default_profile_image=False, following=False, follow_request_sent=False, notifications=False, translator_type='none'), user=User(_api=<tweepy.api.API object at 0x7fb5020ecc50>, _json={'id': 1258650883266498560, 'id_str': '1258650883266498560', 'name': 'Anurag Sharma', 'screen_name': 'anurag01a', 'location': '', 'description': 'Explorer', 'url': None, 'entities': {'description': {'urls': []}}, 'protected': False, 'followers_count': 4, 'friends_count': 106, 'listed_count': 0, 'created_at': 'Fri May 08 06:52:35 +0000 2020', 'favourites_count': 1515, 'utc_offset': None, 'time_zone': None, 'geo_enabled': False, 'verified': False, 'statuses_count': 209, 'lang': None, 'contributors_enabled': False, 'is_translator': False, 'is_translation_enabled': False, 'profile_background_color': 'F5F8FA', 'profile_background_image_url': None, 'profile_background_image_url_https': None, 'profile_background_tile': False, 'profile_image_url': 'http://pbs.twimg.com/profile_images/1324013660872699904/VhnwXr9D_normal.jpg', 'profile_image_url_https': 'https://pbs.twimg.com/profile_images/1324013660872699904/VhnwXr9D_normal.jpg', 'profile_banner_url': 'https://pbs.twimg.com/profile_banners/1258650883266498560/1589530408', 'profile_link_color': '1DA1F2', 'profile_sidebar_border_color': 'C0DEED', 'profile_sidebar_fill_color': 'DDEEF6', 'profile_text_color': '333333', 'profile_use_background_image': True, 'has_extended_profile': False, 'default_profile': True, 'default_profile_image': False, 'following': False, 'follow_request_sent': False, 'notifications': False, 'translator_type': 'none'}, id=1258650883266498560, id_str='1258650883266498560', name='Anurag Sharma', screen_name='anurag01a', location='', description='Explorer', url=None, entities={'description': {'urls': []}}, protected=False, followers_count=4, friends_count=106, listed_count=0, created_at=datetime.datetime(2020, 5, 8, 6, 52, 35), favourites_count=1515, utc_offset=None, time_zone=None, geo_enabled=False, verified=False, statuses_count=209, lang=None, contributors_enabled=False, is_translator=False, is_translation_enabled=False, profile_background_color='F5F8FA', profile_background_image_url=None, profile_background_image_url_https=None, profile_background_tile=False, profile_image_url='http://pbs.twimg.com/profile_images/1324013660872699904/VhnwXr9D_normal.jpg', profile_image_url_https='https://pbs.twimg.com/profile_images/1324013660872699904/VhnwXr9D_normal.jpg', profile_banner_url='https://pbs.twimg.com/profile_banners/1258650883266498560/1589530408', profile_link_color='1DA1F2', profile_sidebar_border_color='C0DEED', profile_sidebar_fill_color='DDEEF6', profile_text_color='333333', profile_use_background_image=True, has_extended_profile=False, default_profile=True, default_profile_image=False, following=False, follow_request_sent=False, notifications=False, translator_type='none'), geo=None, coordinates=None, place=None, contributors=None, is_quote_status=False, retweet_count=0, favorite_count=0, favorited=False, retweeted=False, lang='en')]\n"
          ],
          "name": "stdout"
        }
      ]
    },
    {
      "cell_type": "code",
      "metadata": {
        "colab": {
          "base_uri": "https://localhost:8080/"
        },
        "id": "lvPiXnS_ReVu",
        "outputId": "2079fad8-7b6e-4ff2-eaee-a701c795d85f"
      },
      "source": [
        "for tweet in tweets:\r\n",
        "  print(str(tweet.id)+' - '+tweet.text)\r\n",
        "  "
      ],
      "execution_count": null,
      "outputs": [
        {
          "output_type": "stream",
          "text": [
            "1340295355938742278 - @ShriShri001 Welcome #Shriman\n",
            "1340293460121714691 - @ShriShri001 Welcome #Shri\n"
          ],
          "name": "stdout"
        }
      ]
    },
    {
      "cell_type": "code",
      "metadata": {
        "id": "Ze9CI1PkR_mt"
      },
      "source": [
        "for tweet in tweets:\r\n",
        "  if '#Shri' in tweet.text.lower():\r\n",
        "    print(str(tweet.id)+' - '+tweet.text)"
      ],
      "execution_count": null,
      "outputs": []
    },
    {
      "cell_type": "code",
      "metadata": {
        "colab": {
          "base_uri": "https://localhost:8080/"
        },
        "id": "N8XKQ1JWSziO",
        "outputId": "f1c14a88-dced-4f9c-c8ff-72ab854a2891"
      },
      "source": [
        "phrase='Shri'\r\n",
        "tweet.user.screen_name='Sadhguru'\r\n",
        "tweet.user.id=859625016\r\n",
        "print('\\nTweet by: @' + tweet.user.screen_name)\r\n",
        "print('ID: @' + str(tweet.user.id))\r\n",
        "tweetId = tweet.user.id\r\n",
        "username = tweet.user.screen_name\r\n",
        "api.update_status(\"@\" + username + \" \" + phrase, in_reply_to_status_id = tweetId)\r\n",
        "print (\"Replied with \" + phrase)"
      ],
      "execution_count": null,
      "outputs": [
        {
          "output_type": "stream",
          "text": [
            "\n",
            "Tweet by: @Sadhguru\n",
            "ID: @859625016\n",
            "Replied with Shri\n"
          ],
          "name": "stdout"
        }
      ]
    },
    {
      "cell_type": "code",
      "metadata": {
        "colab": {
          "base_uri": "https://localhost:8080/",
          "height": 35
        },
        "id": "ZWl2u-1Xan0G",
        "outputId": "328ebdeb-840d-4606-9e03-4a9769c8815d"
      },
      "source": [
        "tweet.user.screen_name"
      ],
      "execution_count": null,
      "outputs": [
        {
          "output_type": "execute_result",
          "data": {
            "application/vnd.google.colaboratory.intrinsic+json": {
              "type": "string"
            },
            "text/plain": [
              "'anurag01a'"
            ]
          },
          "metadata": {
            "tags": []
          },
          "execution_count": 21
        }
      ]
    },
    {
      "cell_type": "code",
      "metadata": {
        "colab": {
          "base_uri": "https://localhost:8080/"
        },
        "id": "LpyrIGrMcESt",
        "outputId": "c0f1e286-398d-4884-8813-30ad8603d5dd"
      },
      "source": [
        "tweet.user.id"
      ],
      "execution_count": null,
      "outputs": [
        {
          "output_type": "execute_result",
          "data": {
            "text/plain": [
              "1258650883266498560"
            ]
          },
          "metadata": {
            "tags": []
          },
          "execution_count": 22
        }
      ]
    },
    {
      "cell_type": "code",
      "metadata": {
        "id": "5E4oapg8cOsR"
      },
      "source": [
        "api=tweepy.API(auth, wait_on_rate_limit=True, wait_on_rate_limit_notify=True)\r\n",
        "user=api.me()\r\n",
        "search=[\"#2021\"]\r\n",
        "numTweet = 100000\r\n",
        "for tweet in tweepy.Cursor(api.search, search).items(numTweet):\r\n",
        "    try:\r\n",
        "        print('Tweet Liked')\r\n",
        "        tweet.favorite()\r\n",
        "        print(\"Retweet done\")\r\n",
        "        tweet.retweet()\r\n",
        "        \r\n",
        "        time.sleep(1)\r\n",
        "    except tweepy.TweepError as e:\r\n",
        "        print(e.reason)\r\n",
        "    except StopIteration:\r\n",
        "        break"
      ],
      "execution_count": null,
      "outputs": []
    },
    {
      "cell_type": "code",
      "metadata": {
        "id": "fw-gbPVffgX_"
      },
      "source": [
        ""
      ],
      "execution_count": null,
      "outputs": []
    }
  ]
}