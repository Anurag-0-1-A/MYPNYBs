{
  "nbformat": 4,
  "nbformat_minor": 0,
  "metadata": {
    "colab": {
      "name": "Strings Properties and Methods i.e Immutability.ipynb",
      "provenance": [],
      "collapsed_sections": [],
      "include_colab_link": true
    },
    "kernelspec": {
      "name": "python3",
      "display_name": "Python 3"
    }
  },
  "cells": [
    {
      "cell_type": "markdown",
      "metadata": {
        "id": "view-in-github",
        "colab_type": "text"
      },
      "source": [
        "<a href=\"https://colab.research.google.com/github/Anurag-0-1-A/MYPNYBs/blob/master/Strings_Properties_and_Methods_i_e_Immutability.ipynb\" target=\"_parent\"><img src=\"https://colab.research.google.com/assets/colab-badge.svg\" alt=\"Open In Colab\"/></a>"
      ]
    },
    {
      "cell_type": "code",
      "metadata": {
        "id": "mMACd8HjXbbT",
        "colab_type": "code",
        "colab": {}
      },
      "source": [
        "st=\"Nangal\""
      ],
      "execution_count": 0,
      "outputs": []
    },
    {
      "cell_type": "code",
      "metadata": {
        "id": "-DWt6RMnYR_r",
        "colab_type": "code",
        "colab": {}
      },
      "source": [
        "str=\"Naya \"+st"
      ],
      "execution_count": 0,
      "outputs": []
    },
    {
      "cell_type": "code",
      "metadata": {
        "id": "EwuIvFrmYb4R",
        "colab_type": "code",
        "outputId": "0e69c372-912f-47af-980c-1402b14ab68f",
        "colab": {
          "base_uri": "https://localhost:8080/",
          "height": 34
        }
      },
      "source": [
        "str"
      ],
      "execution_count": 0,
      "outputs": [
        {
          "output_type": "execute_result",
          "data": {
            "text/plain": [
              "'Naya Nangal'"
            ]
          },
          "metadata": {
            "tags": []
          },
          "execution_count": 3
        }
      ]
    },
    {
      "cell_type": "code",
      "metadata": {
        "id": "TJNoLShHYd2d",
        "colab_type": "code",
        "colab": {}
      },
      "source": [
        "alpha=\"z\\n\""
      ],
      "execution_count": 0,
      "outputs": []
    },
    {
      "cell_type": "code",
      "metadata": {
        "id": "tS-GK8FGYmTo",
        "colab_type": "code",
        "outputId": "d485c2e8-22af-4cc5-88b9-be22330c6ae6",
        "colab": {
          "base_uri": "https://localhost:8080/",
          "height": 202
        }
      },
      "source": [
        "print(alpha*10)"
      ],
      "execution_count": 0,
      "outputs": [
        {
          "output_type": "stream",
          "text": [
            "z\n",
            "z\n",
            "z\n",
            "z\n",
            "z\n",
            "z\n",
            "z\n",
            "z\n",
            "z\n",
            "z\n",
            "\n"
          ],
          "name": "stdout"
        }
      ]
    },
    {
      "cell_type": "code",
      "metadata": {
        "id": "wC0u4jayYuVw",
        "colab_type": "code",
        "colab": {}
      },
      "source": [
        "x=\"7\"+\"8\"+\"1\""
      ],
      "execution_count": 0,
      "outputs": []
    },
    {
      "cell_type": "code",
      "metadata": {
        "id": "JI9KeL_oY2nQ",
        "colab_type": "code",
        "outputId": "8dd622de-ee3a-455d-9571-341719e08072",
        "colab": {
          "base_uri": "https://localhost:8080/",
          "height": 34
        }
      },
      "source": [
        "x"
      ],
      "execution_count": 0,
      "outputs": [
        {
          "output_type": "execute_result",
          "data": {
            "text/plain": [
              "'781'"
            ]
          },
          "metadata": {
            "tags": []
          },
          "execution_count": 7
        }
      ]
    },
    {
      "cell_type": "code",
      "metadata": {
        "id": "zFCzOMLxY44_",
        "colab_type": "code",
        "outputId": "8b470fa7-d505-4c54-b8e5-d33cc2a2baf4",
        "colab": {
          "base_uri": "https://localhost:8080/",
          "height": 34
        }
      },
      "source": [
        "print(x)"
      ],
      "execution_count": 0,
      "outputs": [
        {
          "output_type": "stream",
          "text": [
            "781\n"
          ],
          "name": "stdout"
        }
      ]
    },
    {
      "cell_type": "code",
      "metadata": {
        "id": "fRgeEDv7Y_3N",
        "colab_type": "code",
        "outputId": "ac11c151-ff3c-4fcc-93c4-5b66a0acb751",
        "colab": {
          "base_uri": "https://localhost:8080/",
          "height": 34
        }
      },
      "source": [
        "x[1:]"
      ],
      "execution_count": 0,
      "outputs": [
        {
          "output_type": "execute_result",
          "data": {
            "text/plain": [
              "'81'"
            ]
          },
          "metadata": {
            "tags": []
          },
          "execution_count": 9
        }
      ]
    },
    {
      "cell_type": "code",
      "metadata": {
        "id": "GpYl0iFfZD0x",
        "colab_type": "code",
        "colab": {}
      },
      "source": [
        "str1=\"Hello Universe\""
      ],
      "execution_count": 0,
      "outputs": []
    },
    {
      "cell_type": "code",
      "metadata": {
        "id": "ekkLtoEhZHKg",
        "colab_type": "code",
        "outputId": "8cac119c-5523-4e47-f8cf-1b0d049e55f9",
        "colab": {
          "base_uri": "https://localhost:8080/",
          "height": 34
        }
      },
      "source": [
        "str1.upper()"
      ],
      "execution_count": 0,
      "outputs": [
        {
          "output_type": "execute_result",
          "data": {
            "text/plain": [
              "'HELLO UNIVERSE'"
            ]
          },
          "metadata": {
            "tags": []
          },
          "execution_count": 11
        }
      ]
    },
    {
      "cell_type": "code",
      "metadata": {
        "id": "lvuCnStSZJiA",
        "colab_type": "code",
        "outputId": "465534a6-473a-4d4f-f223-83f2b5a08653",
        "colab": {
          "base_uri": "https://localhost:8080/",
          "height": 34
        }
      },
      "source": [
        "str1.lower()"
      ],
      "execution_count": 0,
      "outputs": [
        {
          "output_type": "execute_result",
          "data": {
            "text/plain": [
              "'hello universe'"
            ]
          },
          "metadata": {
            "tags": []
          },
          "execution_count": 12
        }
      ]
    },
    {
      "cell_type": "code",
      "metadata": {
        "id": "wEwUjH0TZN2g",
        "colab_type": "code",
        "outputId": "89620770-ee21-47fe-b31f-9a6ac94db9b9",
        "colab": {
          "base_uri": "https://localhost:8080/",
          "height": 34
        }
      },
      "source": [
        "str1.split()"
      ],
      "execution_count": 0,
      "outputs": [
        {
          "output_type": "execute_result",
          "data": {
            "text/plain": [
              "['Hello', 'Universe']"
            ]
          },
          "metadata": {
            "tags": []
          },
          "execution_count": 13
        }
      ]
    },
    {
      "cell_type": "code",
      "metadata": {
        "id": "ZiZsDRS2ZSFg",
        "colab_type": "code",
        "outputId": "88f38a86-246e-4532-9d52-3ce80aafd8cc",
        "colab": {
          "base_uri": "https://localhost:8080/",
          "height": 34
        }
      },
      "source": [
        "\"Supercalifragilisticesxpialodocious\".split('i')"
      ],
      "execution_count": 0,
      "outputs": [
        {
          "output_type": "execute_result",
          "data": {
            "text/plain": [
              "['Supercal', 'frag', 'l', 'st', 'cesxp', 'alodoc', 'ous']"
            ]
          },
          "metadata": {
            "tags": []
          },
          "execution_count": 14
        }
      ]
    },
    {
      "cell_type": "code",
      "metadata": {
        "id": "sbk5toVWZ38S",
        "colab_type": "code",
        "colab": {}
      },
      "source": [
        "anu=\"Anurag Sharma\""
      ],
      "execution_count": 0,
      "outputs": []
    },
    {
      "cell_type": "code",
      "metadata": {
        "id": "Kb5L0o3UZZ3o",
        "colab_type": "code",
        "outputId": "b580eae9-a16f-4dbf-92cb-5eb00faf44a7",
        "colab": {
          "base_uri": "https://localhost:8080/",
          "height": 34
        }
      },
      "source": [
        "anu.split()"
      ],
      "execution_count": 0,
      "outputs": [
        {
          "output_type": "execute_result",
          "data": {
            "text/plain": [
              "['Anurag', 'Sharma']"
            ]
          },
          "metadata": {
            "tags": []
          },
          "execution_count": 16
        }
      ]
    },
    {
      "cell_type": "code",
      "metadata": {
        "id": "aVTX80S9ZjM4",
        "colab_type": "code",
        "colab": {}
      },
      "source": [
        "z=anu[0:1]+anu[2:5]+\" \"+anu[9:12]"
      ],
      "execution_count": 0,
      "outputs": []
    },
    {
      "cell_type": "code",
      "metadata": {
        "id": "NJyU0imcaRX3",
        "colab_type": "code",
        "outputId": "39ee0151-97ce-4402-dfd0-0a369e6d3ef9",
        "colab": {
          "base_uri": "https://localhost:8080/",
          "height": 34
        }
      },
      "source": [
        "print(z.upper())"
      ],
      "execution_count": 0,
      "outputs": [
        {
          "output_type": "stream",
          "text": [
            "AURA ARM\n"
          ],
          "name": "stdout"
        }
      ]
    },
    {
      "cell_type": "code",
      "metadata": {
        "id": "qhCbatlgaS0w",
        "colab_type": "code",
        "outputId": "cbd5a52f-193c-4f24-cfc5-2fdc46233baf",
        "colab": {
          "base_uri": "https://localhost:8080/",
          "height": 34
        }
      },
      "source": [
        "\"\"\"My name \n",
        "is \n",
        "Anurag Sharma\"\"\""
      ],
      "execution_count": 0,
      "outputs": [
        {
          "output_type": "execute_result",
          "data": {
            "text/plain": [
              "'My name \\nis \\nAnurag Sharma'"
            ]
          },
          "metadata": {
            "tags": []
          },
          "execution_count": 1
        }
      ]
    },
    {
      "cell_type": "code",
      "metadata": {
        "id": "vQhi6IZWizuI",
        "colab_type": "code",
        "outputId": "773ca8b0-68ed-4df5-afab-7a0df8d2c0e1",
        "colab": {
          "base_uri": "https://localhost:8080/",
          "height": 34
        }
      },
      "source": [
        "len(\"\"\"My name \n",
        "is \n",
        "Anurag Sharma\"\"\")"
      ],
      "execution_count": 0,
      "outputs": [
        {
          "output_type": "execute_result",
          "data": {
            "text/plain": [
              "26"
            ]
          },
          "metadata": {
            "tags": []
          },
          "execution_count": 2
        }
      ]
    },
    {
      "cell_type": "code",
      "metadata": {
        "id": "ls1CR39xjEFv",
        "colab_type": "code",
        "colab": {}
      },
      "source": [
        "st=\"\"\"My name \n",
        "is \n",
        "Anurag Sharma\"\"\""
      ],
      "execution_count": 0,
      "outputs": []
    },
    {
      "cell_type": "code",
      "metadata": {
        "id": "luLb1sLYjQNH",
        "colab_type": "code",
        "outputId": "3841871b-50a3-4b27-ca73-9585d3ab4d89",
        "colab": {
          "base_uri": "https://localhost:8080/",
          "height": 34
        }
      },
      "source": [
        "st[::-1]"
      ],
      "execution_count": 0,
      "outputs": [
        {
          "output_type": "execute_result",
          "data": {
            "text/plain": [
              "'amrahS garunA\\n si\\n eman yM'"
            ]
          },
          "metadata": {
            "tags": []
          },
          "execution_count": 7
        }
      ]
    },
    {
      "cell_type": "code",
      "metadata": {
        "id": "l_Orr9b0jSNW",
        "colab_type": "code",
        "outputId": "0d4084f5-5a92-4fd7-e53e-9a73abe6093d",
        "colab": {
          "base_uri": "https://localhost:8080/",
          "height": 162
        }
      },
      "source": [
        "st[0]='h' #Immutability property list is mutable but string is not"
      ],
      "execution_count": 0,
      "outputs": [
        {
          "output_type": "error",
          "ename": "TypeError",
          "evalue": "ignored",
          "traceback": [
            "\u001b[0;31m---------------------------------------------------------------------------\u001b[0m",
            "\u001b[0;31mTypeError\u001b[0m                                 Traceback (most recent call last)",
            "\u001b[0;32m<ipython-input-11-eca104330989>\u001b[0m in \u001b[0;36m<module>\u001b[0;34m()\u001b[0m\n\u001b[0;32m----> 1\u001b[0;31m \u001b[0mst\u001b[0m\u001b[0;34m[\u001b[0m\u001b[0;36m0\u001b[0m\u001b[0;34m]\u001b[0m\u001b[0;34m=\u001b[0m\u001b[0;34m'h'\u001b[0m \u001b[0;31m#Immutability property list is mutable but string is not\u001b[0m\u001b[0;34m\u001b[0m\u001b[0;34m\u001b[0m\u001b[0m\n\u001b[0m",
            "\u001b[0;31mTypeError\u001b[0m: 'str' object does not support item assignment"
          ]
        }
      ]
    },
    {
      "cell_type": "code",
      "metadata": {
        "id": "VixQuvfDjhZ2",
        "colab_type": "code",
        "outputId": "c8bd7690-cbcf-4c4e-e93c-b0caef879915",
        "colab": {
          "base_uri": "https://localhost:8080/",
          "height": 34
        }
      },
      "source": [
        "l=[2,3,4,5,\"anurag\"]\n",
        "l[0]"
      ],
      "execution_count": 0,
      "outputs": [
        {
          "output_type": "execute_result",
          "data": {
            "text/plain": [
              "2"
            ]
          },
          "metadata": {
            "tags": []
          },
          "execution_count": 12
        }
      ]
    },
    {
      "cell_type": "code",
      "metadata": {
        "id": "g1Z0Y2L5kXAd",
        "colab_type": "code",
        "colab": {}
      },
      "source": [
        "l[0]=\"sharma\""
      ],
      "execution_count": 0,
      "outputs": []
    },
    {
      "cell_type": "code",
      "metadata": {
        "id": "YL0eKsEIkbDf",
        "colab_type": "code",
        "outputId": "fc2d5e9a-422a-4954-f4c5-118385b5add0",
        "colab": {
          "base_uri": "https://localhost:8080/",
          "height": 34
        }
      },
      "source": [
        "l"
      ],
      "execution_count": 0,
      "outputs": [
        {
          "output_type": "execute_result",
          "data": {
            "text/plain": [
              "['sharma', 3, 4, 5, 'anurag']"
            ]
          },
          "metadata": {
            "tags": []
          },
          "execution_count": 14
        }
      ]
    },
    {
      "cell_type": "code",
      "metadata": {
        "id": "xlPF_hlRkcHR",
        "colab_type": "code",
        "outputId": "a6ebfb5e-84d0-4ec0-a28a-4b99f4188dbd",
        "colab": {
          "base_uri": "https://localhost:8080/",
          "height": 34
        }
      },
      "source": [
        "\"anurag \"+\"sharma\""
      ],
      "execution_count": 0,
      "outputs": [
        {
          "output_type": "execute_result",
          "data": {
            "text/plain": [
              "'anurag sharma'"
            ]
          },
          "metadata": {
            "tags": []
          },
          "execution_count": 16
        }
      ]
    },
    {
      "cell_type": "code",
      "metadata": {
        "id": "4G4-eR3AkzFJ",
        "colab_type": "code",
        "outputId": "92b6ddf6-a47f-4c27-b9ae-f7795b915710",
        "colab": {
          "base_uri": "https://localhost:8080/",
          "height": 34
        }
      },
      "source": [
        "\"anurag\"+'0'+\"1\"+'a'"
      ],
      "execution_count": 0,
      "outputs": [
        {
          "output_type": "execute_result",
          "data": {
            "text/plain": [
              "'anurag01a'"
            ]
          },
          "metadata": {
            "tags": []
          },
          "execution_count": 17
        }
      ]
    },
    {
      "cell_type": "code",
      "metadata": {
        "id": "L7MRy9QPk_ip",
        "colab_type": "code",
        "outputId": "0d8a4fbd-47b7-483e-d776-ca4ae6067143",
        "colab": {
          "base_uri": "https://localhost:8080/",
          "height": 34
        }
      },
      "source": [
        "\"anurag\"*10\n",
        "\n"
      ],
      "execution_count": 0,
      "outputs": [
        {
          "output_type": "execute_result",
          "data": {
            "text/plain": [
              "'anuraganuraganuraganuraganuraganuraganuraganuraganuraganurag'"
            ]
          },
          "metadata": {
            "tags": []
          },
          "execution_count": 18
        }
      ]
    },
    {
      "cell_type": "code",
      "metadata": {
        "id": "CV0J4XFnlHtj",
        "colab_type": "code",
        "colab": {}
      },
      "source": [
        "st='anurag'\n",
        "st=st.upper()"
      ],
      "execution_count": 0,
      "outputs": []
    },
    {
      "cell_type": "code",
      "metadata": {
        "id": "9EnqAbJdlxRo",
        "colab_type": "code",
        "outputId": "769f35d5-2974-4c88-d3e7-7ada145ae352",
        "colab": {
          "base_uri": "https://localhost:8080/",
          "height": 34
        }
      },
      "source": [
        "st"
      ],
      "execution_count": 0,
      "outputs": [
        {
          "output_type": "execute_result",
          "data": {
            "text/plain": [
              "'ANURAG'"
            ]
          },
          "metadata": {
            "tags": []
          },
          "execution_count": 21
        }
      ]
    },
    {
      "cell_type": "code",
      "metadata": {
        "id": "zgrcqt1hl0fL",
        "colab_type": "code",
        "outputId": "c706f7a5-cba5-4a38-fc66-cec0a55601f5",
        "colab": {
          "base_uri": "https://localhost:8080/",
          "height": 34
        }
      },
      "source": [
        "st=\"Anurag#Sharma#is#a#student\"\n",
        "st.split(\"#\")"
      ],
      "execution_count": 0,
      "outputs": [
        {
          "output_type": "execute_result",
          "data": {
            "text/plain": [
              "['Anurag', 'Sharma', 'is', 'a', 'student']"
            ]
          },
          "metadata": {
            "tags": []
          },
          "execution_count": 23
        }
      ]
    },
    {
      "cell_type": "code",
      "metadata": {
        "id": "VA7MtYz3mFMp",
        "colab_type": "code",
        "outputId": "2bc84ebd-82b2-4f22-d6ee-64e24b1bf76d",
        "colab": {
          "base_uri": "https://localhost:8080/",
          "height": 890
        }
      },
      "source": [
        "st=\"ABCDEFGHIJKLIMNOQRSTUVWXYZ\"\n",
        "w=4\n",
        "k=0\n",
        "p=\"\"\n",
        "\n",
        "for j in st:   \n",
        "  for i in range(0,4):\n",
        "    print(j,end=\"\")\n",
        "  print(\"\\n\")\n",
        "  \n",
        " "
      ],
      "execution_count": 0,
      "outputs": [
        {
          "output_type": "stream",
          "text": [
            "AAAA\n",
            "\n",
            "BBBB\n",
            "\n",
            "CCCC\n",
            "\n",
            "DDDD\n",
            "\n",
            "EEEE\n",
            "\n",
            "FFFF\n",
            "\n",
            "GGGG\n",
            "\n",
            "HHHH\n",
            "\n",
            "IIII\n",
            "\n",
            "JJJJ\n",
            "\n",
            "KKKK\n",
            "\n",
            "LLLL\n",
            "\n",
            "IIII\n",
            "\n",
            "MMMM\n",
            "\n",
            "NNNN\n",
            "\n",
            "OOOO\n",
            "\n",
            "QQQQ\n",
            "\n",
            "RRRR\n",
            "\n",
            "SSSS\n",
            "\n",
            "TTTT\n",
            "\n",
            "UUUU\n",
            "\n",
            "VVVV\n",
            "\n",
            "WWWW\n",
            "\n",
            "XXXX\n",
            "\n",
            "YYYY\n",
            "\n",
            "ZZZZ\n",
            "\n"
          ],
          "name": "stdout"
        }
      ]
    },
    {
      "cell_type": "code",
      "metadata": {
        "id": "Eam4EBPsKJfl",
        "colab_type": "code",
        "colab": {}
      },
      "source": [
        ""
      ],
      "execution_count": 0,
      "outputs": []
    }
  ]
}