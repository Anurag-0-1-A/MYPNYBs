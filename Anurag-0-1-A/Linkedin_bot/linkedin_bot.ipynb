{
  "nbformat": 4,
  "nbformat_minor": 0,
  "metadata": {
    "language_info": {
      "codemirror_mode": {
        "name": "ipython",
        "version": 3
      },
      "file_extension": ".py",
      "mimetype": "text/x-python",
      "name": "python",
      "nbconvert_exporter": "python",
      "pygments_lexer": "ipython3",
      "version": "3.9.1"
    },
    "orig_nbformat": 4,
    "kernelspec": {
      "name": "python3",
      "display_name": "Python 3.9.1 64-bit"
    },
    "interpreter": {
      "hash": "63fd5069d213b44bf678585dea6b12cceca9941eaf7f819626cde1f2670de90d"
    },
    "colab": {
      "name": "linkedin_bot.ipynb",
      "provenance": [],
      "collapsed_sections": [],
      "include_colab_link": true
    }
  },
  "cells": [
    {
      "cell_type": "markdown",
      "metadata": {
        "id": "view-in-github",
        "colab_type": "text"
      },
      "source": [
        "<a href=\"https://colab.research.google.com/github/Anurag-0-1-A/MYPNYBs/blob/master/Anurag-0-1-A/Linkedin_bot/linkedin_bot.ipynb\" target=\"_parent\"><img src=\"https://colab.research.google.com/assets/colab-badge.svg\" alt=\"Open In Colab\"/></a>"
      ]
    },
    {
      "cell_type": "code",
      "metadata": {
        "id": "Cu3sSYl1R-oh"
      },
      "source": [
        "def my_bot(link):\n",
        "    from selenium import webdriver\n",
        "    import time\n",
        "    import getpass\n",
        "\n",
        "    driver = webdriver.Chrome('C:/Users/HP/Downloads/chromedriver.exe')\n",
        "    driver.get('https://www.linkedin.com')\n",
        "    time.sleep(2)\n",
        "\n",
        "# ********** LOG IN *************\n",
        "\n",
        "    username = driver.find_element_by_xpath(\"//input[@name='session_key']\")\n",
        "    password = driver.find_element_by_xpath(\"//input[@name='session_password']\")\n",
        "\n",
        "    username.send_keys(input('username'))\n",
        "    password.send_keys(getpass.getpass('password'))\n",
        "    time.sleep(2)\n",
        "\n",
        "    submit = driver.find_element_by_xpath(\"//button[@type='submit']\").click()\n",
        "\n",
        "# ***************** ADD CONTACTS ***********************\n",
        "    driver.get(link)\n",
        "    time.sleep(2)\n",
        "    page_start=int(input(\"Your starting page? \"))\n",
        "    page_end=int(input(\"Your ending page? \")) \n",
        "    for page in range(page_start, page_end+1):\n",
        "\n",
        "        all_buttons = driver.find_elements_by_tag_name(\"button\")\n",
        "        connect_buttons = [btn for btn in all_buttons if btn.text == \"Connect\"]\n",
        "\n",
        "        for btn in connect_buttons:\n",
        "            driver.execute_script(\"arguments[0].click();\", btn)\n",
        "            time.sleep(2)\n",
        "            send = driver.find_element_by_xpath(\"//button[@aria-label='Send now']\")\n",
        "            driver.execute_script(\"arguments[0].click();\", send)\n",
        "            time.sleep(2)\n",
        "            close = driver.find_element_by_xpath(\"//button[@aria-label='Dismiss']\")\n",
        "            driver.execute_script(\"arguments[0].click();\", close)\n",
        "            time.sleep(2)\n",
        "        next_pg = driver.find_element_by_xpath(f\"//button[@aria-label='Page {page}']\")\n",
        "        driver.execute_script(\"arguments[0].click();\", next_pg)\n",
        "        time.sleep(2)\n",
        "    \n",
        "    #follow = driver.find_element_by_xpath(\"//button[@aria-label='Follow']\")\n",
        "    #driver.execute_script(\"arguments[0].click();\", follow)\n",
        "    # time.sleep(2)\n",
        "    \n"
      ],
      "execution_count": null,
      "outputs": []
    },
    {
      "cell_type": "code",
      "metadata": {
        "id": "NvgDl_NxR-om"
      },
      "source": [
        "my_bot(\"https://www.linkedin.com/search/results/people/?currentCompany=%5B%221382%22%5D&network=%5B%22S%22%5D&origin=FACETED_SEARCH\")"
      ],
      "execution_count": null,
      "outputs": []
    },
    {
      "cell_type": "code",
      "metadata": {
        "id": "4rpFCgx_R-on"
      },
      "source": [
        ""
      ],
      "execution_count": null,
      "outputs": []
    }
  ]
}