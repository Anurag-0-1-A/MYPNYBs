{
  "nbformat": 4,
  "nbformat_minor": 0,
  "metadata": {
    "colab": {
      "name": "Nested Statements and Scope",
      "provenance": [],
      "collapsed_sections": [],
      "authorship_tag": "ABX9TyNjHF/FAzE5ESCNOsooMPO8",
      "include_colab_link": true
    },
    "kernelspec": {
      "name": "python3",
      "display_name": "Python 3"
    }
  },
  "cells": [
    {
      "cell_type": "markdown",
      "metadata": {
        "id": "view-in-github",
        "colab_type": "text"
      },
      "source": [
        "<a href=\"https://colab.research.google.com/github/Anurag-0-1-A/MYPNYBs/blob/master/Functions/Nested_Statements_and_Scope.ipynb\" target=\"_parent\"><img src=\"https://colab.research.google.com/assets/colab-badge.svg\" alt=\"Open In Colab\"/></a>"
      ]
    },
    {
      "cell_type": "code",
      "metadata": {
        "id": "ZNuK0k1Zc9OH",
        "colab_type": "code",
        "colab": {}
      },
      "source": [
        "x=25\n",
        "\n",
        "def printer():\n",
        "  x=50\n",
        "  return x"
      ],
      "execution_count": null,
      "outputs": []
    },
    {
      "cell_type": "code",
      "metadata": {
        "id": "WSJ2NYlEdOJu",
        "colab_type": "code",
        "colab": {
          "base_uri": "https://localhost:8080/",
          "height": 34
        },
        "outputId": "dcdacca5-dd4d-4cde-8941-1e8fb5caecd3"
      },
      "source": [
        "print(x)"
      ],
      "execution_count": null,
      "outputs": [
        {
          "output_type": "stream",
          "text": [
            "25\n"
          ],
          "name": "stdout"
        }
      ]
    },
    {
      "cell_type": "code",
      "metadata": {
        "id": "Df2kp9oKdP3Q",
        "colab_type": "code",
        "colab": {
          "base_uri": "https://localhost:8080/",
          "height": 34
        },
        "outputId": "a57a5133-4929-478b-81cf-d58e1f596ae9"
      },
      "source": [
        "print(printer())"
      ],
      "execution_count": null,
      "outputs": [
        {
          "output_type": "stream",
          "text": [
            "50\n"
          ],
          "name": "stdout"
        }
      ]
    },
    {
      "cell_type": "code",
      "metadata": {
        "id": "82P5s0gEdWTp",
        "colab_type": "code",
        "colab": {}
      },
      "source": [
        "#LEGB RULE:\n",
        "#L:Local,E:Enclosing function locals,G:Global(module),B:Built-in(Python)"
      ],
      "execution_count": null,
      "outputs": []
    },
    {
      "cell_type": "code",
      "metadata": {
        "id": "ZAiUIblvd60p",
        "colab_type": "code",
        "colab": {}
      },
      "source": [
        "#lambda num:num**2"
      ],
      "execution_count": null,
      "outputs": []
    },
    {
      "cell_type": "code",
      "metadata": {
        "id": "GXxzK4aheSEJ",
        "colab_type": "code",
        "colab": {}
      },
      "source": [
        "name='THIS IS A GLOBAL STRING' #global string have no indentation\n",
        "def greet():\n",
        "  #enclosing\n",
        "  name='sammy'\n",
        "  def hello():\n",
        "    #LOCAL\n",
        "    name='I m Local'\n",
        "    print('Hello '+name)\n",
        "  hello()\n"
      ],
      "execution_count": null,
      "outputs": []
    },
    {
      "cell_type": "code",
      "metadata": {
        "id": "nJ-YetZSeqiB",
        "colab_type": "code",
        "colab": {
          "base_uri": "https://localhost:8080/",
          "height": 34
        },
        "outputId": "964e1d6f-a117-493a-b2dd-d82f68c35073"
      },
      "source": [
        "greet()"
      ],
      "execution_count": null,
      "outputs": [
        {
          "output_type": "stream",
          "text": [
            "Hello I m Local\n"
          ],
          "name": "stdout"
        }
      ]
    },
    {
      "cell_type": "code",
      "metadata": {
        "id": "C-5JOheuftYp",
        "colab_type": "code",
        "colab": {
          "base_uri": "https://localhost:8080/",
          "height": 101
        },
        "outputId": "433756a2-34ca-433c-d58b-5614864f6cbb"
      },
      "source": [
        "help(len)"
      ],
      "execution_count": null,
      "outputs": [
        {
          "output_type": "stream",
          "text": [
            "Help on built-in function len in module builtins:\n",
            "\n",
            "len(obj, /)\n",
            "    Return the number of items in a container.\n",
            "\n"
          ],
          "name": "stdout"
        }
      ]
    },
    {
      "cell_type": "code",
      "metadata": {
        "id": "ILywjnI-e6OD",
        "colab_type": "code",
        "colab": {}
      },
      "source": [
        "#dont overwrite built in functions"
      ],
      "execution_count": null,
      "outputs": []
    },
    {
      "cell_type": "code",
      "metadata": {
        "id": "scY9LsavfqnD",
        "colab_type": "code",
        "colab": {}
      },
      "source": [
        "x=50\n",
        "\n",
        "def func(x):\n",
        "  print(f'X is {x}')\n",
        "\n",
        "  #LOCAL REASSIGNMENT\n",
        "  x=200 #its only local to func as its scope\n",
        "  print(f'I JUST LOCALLY CHANGED X TO {x}')"
      ],
      "execution_count": null,
      "outputs": []
    },
    {
      "cell_type": "code",
      "metadata": {
        "id": "IKE7fUgjf3HC",
        "colab_type": "code",
        "colab": {
          "base_uri": "https://localhost:8080/",
          "height": 50
        },
        "outputId": "dc2515e9-784a-439b-de7b-9d255e3df201"
      },
      "source": [
        "func(x)"
      ],
      "execution_count": null,
      "outputs": [
        {
          "output_type": "stream",
          "text": [
            "X is 50\n",
            "I JUST LOCALLY CHANGED X TO 200\n"
          ],
          "name": "stdout"
        }
      ]
    },
    {
      "cell_type": "code",
      "metadata": {
        "id": "Cfk4XmP0f4cZ",
        "colab_type": "code",
        "colab": {
          "base_uri": "https://localhost:8080/",
          "height": 34
        },
        "outputId": "ebfed406-ffbe-4b82-d141-262dbe46db0e"
      },
      "source": [
        "print(x) #in the above example x is locally assigned i.e not changing it at higher level"
      ],
      "execution_count": null,
      "outputs": [
        {
          "output_type": "stream",
          "text": [
            "50\n"
          ],
          "name": "stdout"
        }
      ]
    },
    {
      "cell_type": "code",
      "metadata": {
        "id": "fqNLiiptgKvB",
        "colab_type": "code",
        "colab": {}
      },
      "source": [
        "x=50\n",
        "\n",
        "def func():\n",
        "  global x  #avoid using this word global\n",
        "  print(f'X is {x}')\n",
        "\n",
        "  #LOCAL REASSIGNMENT on a GLOBAL VARIABLE !\n",
        "  x=\"new value\"\n",
        "  print(f'I JUST LOCALLY CHANGED X TO {x}')"
      ],
      "execution_count": null,
      "outputs": []
    },
    {
      "cell_type": "code",
      "metadata": {
        "id": "gRVZ2QwZhLKx",
        "colab_type": "code",
        "colab": {
          "base_uri": "https://localhost:8080/",
          "height": 34
        },
        "outputId": "eacf85e9-98d9-4a17-cc86-b29375449ba6"
      },
      "source": [
        "print(x)"
      ],
      "execution_count": null,
      "outputs": [
        {
          "output_type": "stream",
          "text": [
            "50\n"
          ],
          "name": "stdout"
        }
      ]
    },
    {
      "cell_type": "code",
      "metadata": {
        "id": "_RzR1jWkhM_L",
        "colab_type": "code",
        "colab": {
          "base_uri": "https://localhost:8080/",
          "height": 162
        },
        "outputId": "d90b59a9-e00c-4c2a-8579-4bc6ed7364df"
      },
      "source": [
        "x=func(x)"
      ],
      "execution_count": null,
      "outputs": [
        {
          "output_type": "error",
          "ename": "TypeError",
          "evalue": "ignored",
          "traceback": [
            "\u001b[0;31m---------------------------------------------------------------------------\u001b[0m",
            "\u001b[0;31mTypeError\u001b[0m                                 Traceback (most recent call last)",
            "\u001b[0;32m<ipython-input-41-30f98956a677>\u001b[0m in \u001b[0;36m<module>\u001b[0;34m()\u001b[0m\n\u001b[0;32m----> 1\u001b[0;31m \u001b[0mx\u001b[0m\u001b[0;34m=\u001b[0m\u001b[0mfunc\u001b[0m\u001b[0;34m(\u001b[0m\u001b[0mx\u001b[0m\u001b[0;34m)\u001b[0m\u001b[0;34m\u001b[0m\u001b[0;34m\u001b[0m\u001b[0m\n\u001b[0m",
            "\u001b[0;31mTypeError\u001b[0m: func() takes 0 positional arguments but 1 was given"
          ]
        }
      ]
    },
    {
      "cell_type": "code",
      "metadata": {
        "id": "VPFaBkfwhPlA",
        "colab_type": "code",
        "colab": {
          "base_uri": "https://localhost:8080/",
          "height": 34
        },
        "outputId": "ff78f27e-6fe0-4031-a20a-d1cd184dbe26"
      },
      "source": [
        "print(x)"
      ],
      "execution_count": null,
      "outputs": [
        {
          "output_type": "stream",
          "text": [
            "None\n"
          ],
          "name": "stdout"
        }
      ]
    },
    {
      "cell_type": "code",
      "metadata": {
        "id": "PTnqNEOphQzD",
        "colab_type": "code",
        "colab": {}
      },
      "source": [
        ""
      ],
      "execution_count": null,
      "outputs": []
    }
  ]
}