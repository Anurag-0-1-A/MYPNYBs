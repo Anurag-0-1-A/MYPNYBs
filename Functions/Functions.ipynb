{
  "nbformat": 4,
  "nbformat_minor": 0,
  "metadata": {
    "colab": {
      "name": "Functions",
      "provenance": [],
      "collapsed_sections": [],
      "authorship_tag": "ABX9TyP8fynvyUwE4N3qSE4i4eSr",
      "include_colab_link": true
    },
    "kernelspec": {
      "name": "python3",
      "display_name": "Python 3"
    }
  },
  "cells": [
    {
      "cell_type": "markdown",
      "metadata": {
        "id": "view-in-github",
        "colab_type": "text"
      },
      "source": [
        "<a href=\"https://colab.research.google.com/github/Anurag-0-1-A/MYPNYBs/blob/master/Functions/Functions.ipynb\" target=\"_parent\"><img src=\"https://colab.research.google.com/assets/colab-badge.svg\" alt=\"Open In Colab\"/></a>"
      ]
    },
    {
      "cell_type": "code",
      "metadata": {
        "id": "stInRHCLtH2-",
        "colab_type": "code",
        "colab": {}
      },
      "source": [
        "def test(x):\n",
        "  return x*3 , x+x"
      ],
      "execution_count": null,
      "outputs": []
    },
    {
      "cell_type": "code",
      "metadata": {
        "id": "PnlbrVI1tNjL",
        "colab_type": "code",
        "colab": {
          "base_uri": "https://localhost:8080/",
          "height": 34
        },
        "outputId": "9f8928b3-92c7-4299-84e8-0261ffd4f832"
      },
      "source": [
        "test(4)"
      ],
      "execution_count": null,
      "outputs": [
        {
          "output_type": "execute_result",
          "data": {
            "text/plain": [
              "(12, 8)"
            ]
          },
          "metadata": {
            "tags": []
          },
          "execution_count": 12
        }
      ]
    },
    {
      "cell_type": "code",
      "metadata": {
        "id": "t6Xg2rqqtPgs",
        "colab_type": "code",
        "colab": {
          "base_uri": "https://localhost:8080/",
          "height": 34
        },
        "outputId": "6fa14fff-8638-4b3c-d9a1-b8352226c340"
      },
      "source": [
        "test(\"Anurag\")"
      ],
      "execution_count": null,
      "outputs": [
        {
          "output_type": "execute_result",
          "data": {
            "text/plain": [
              "('AnuragAnuragAnurag', 'AnuragAnurag')"
            ]
          },
          "metadata": {
            "tags": []
          },
          "execution_count": 13
        }
      ]
    },
    {
      "cell_type": "code",
      "metadata": {
        "id": "uYL0xnnrtP0O",
        "colab_type": "code",
        "colab": {
          "base_uri": "https://localhost:8080/",
          "height": 34
        },
        "outputId": "3875445c-180d-433f-e5c1-eca5fb9c4e85"
      },
      "source": [
        "type(test(\"Anurag\"))"
      ],
      "execution_count": null,
      "outputs": [
        {
          "output_type": "execute_result",
          "data": {
            "text/plain": [
              "tuple"
            ]
          },
          "metadata": {
            "tags": []
          },
          "execution_count": 11
        }
      ]
    },
    {
      "cell_type": "code",
      "metadata": {
        "id": "93TjUj6bt7Dn",
        "colab_type": "code",
        "colab": {}
      },
      "source": [
        "a,_=test(\"Anurag\") #underscore can also be used as this fuction is returning 2 values"
      ],
      "execution_count": null,
      "outputs": []
    },
    {
      "cell_type": "code",
      "metadata": {
        "id": "wKNu1RM9uD3b",
        "colab_type": "code",
        "colab": {
          "base_uri": "https://localhost:8080/",
          "height": 34
        },
        "outputId": "101c66ca-2b11-40b4-c61c-1f50e16cd214"
      },
      "source": [
        "a"
      ],
      "execution_count": null,
      "outputs": [
        {
          "output_type": "execute_result",
          "data": {
            "text/plain": [
              "'AnuragAnuragAnurag'"
            ]
          },
          "metadata": {
            "tags": []
          },
          "execution_count": 20
        }
      ]
    },
    {
      "cell_type": "code",
      "metadata": {
        "id": "1_1qNs9nuNJH",
        "colab_type": "code",
        "colab": {
          "base_uri": "https://localhost:8080/",
          "height": 34
        },
        "outputId": "e482414e-b3d4-4f8b-8515-e90c265fa233"
      },
      "source": [
        "_"
      ],
      "execution_count": null,
      "outputs": [
        {
          "output_type": "execute_result",
          "data": {
            "text/plain": [
              "'AnuragAnuragAnurag'"
            ]
          },
          "metadata": {
            "tags": []
          },
          "execution_count": 21
        }
      ]
    },
    {
      "cell_type": "code",
      "metadata": {
        "id": "3kGXibk4vq5G",
        "colab_type": "code",
        "colab": {}
      },
      "source": [
        "def test(x):\n",
        "  for i in x:\n",
        "    if i == 'u':\n",
        "      continue\n",
        "    print(i)"
      ],
      "execution_count": null,
      "outputs": []
    },
    {
      "cell_type": "code",
      "metadata": {
        "id": "2436J8jQvxE9",
        "colab_type": "code",
        "colab": {
          "base_uri": "https://localhost:8080/",
          "height": 101
        },
        "outputId": "d6ec347c-e27f-4575-ac7e-8ad4e4293c93"
      },
      "source": [
        "test(\"Anurag\")"
      ],
      "execution_count": null,
      "outputs": [
        {
          "output_type": "stream",
          "text": [
            "A\n",
            "n\n",
            "r\n",
            "a\n",
            "g\n"
          ],
          "name": "stdout"
        }
      ]
    },
    {
      "cell_type": "code",
      "metadata": {
        "id": "4Kbkyj3qwja6",
        "colab_type": "code",
        "colab": {
          "base_uri": "https://localhost:8080/",
          "height": 34
        },
        "outputId": "e5c4b42e-b626-444d-9d50-0c564e4822db"
      },
      "source": [
        "d={\"k1\":3242,\"k2\":34}\n",
        "d.items()"
      ],
      "execution_count": null,
      "outputs": [
        {
          "output_type": "execute_result",
          "data": {
            "text/plain": [
              "dict_items([('k1', 3242), ('k2', 34)])"
            ]
          },
          "metadata": {
            "tags": []
          },
          "execution_count": 30
        }
      ]
    },
    {
      "cell_type": "code",
      "metadata": {
        "id": "fsjadeJewxpu",
        "colab_type": "code",
        "colab": {}
      },
      "source": [
        "def test1():\n",
        "  l=[]\n",
        "  for i in range(6):\n",
        "    a=input()\n",
        "    l.append(a)\n",
        "  return l#final or last statement"
      ],
      "execution_count": null,
      "outputs": []
    },
    {
      "cell_type": "code",
      "metadata": {
        "id": "M-KBZYT3xp5w",
        "colab_type": "code",
        "colab": {}
      },
      "source": [
        ""
      ],
      "execution_count": null,
      "outputs": []
    },
    {
      "cell_type": "code",
      "metadata": {
        "id": "kkpx_l9uxc6H",
        "colab_type": "code",
        "colab": {
          "base_uri": "https://localhost:8080/",
          "height": 134
        },
        "outputId": "7a66cd66-f365-412c-dc3e-c8b65ca95301"
      },
      "source": [
        "test1()"
      ],
      "execution_count": null,
      "outputs": [
        {
          "output_type": "stream",
          "text": [
            "dr\n",
            "dfg\n",
            "ser\n",
            "io\n",
            "we\n",
            "ty\n"
          ],
          "name": "stdout"
        },
        {
          "output_type": "execute_result",
          "data": {
            "text/plain": [
              "['dr', 'dfg', 'ser', 'io', 'we', 'ty']"
            ]
          },
          "metadata": {
            "tags": []
          },
          "execution_count": 33
        }
      ]
    },
    {
      "cell_type": "code",
      "metadata": {
        "id": "-h9rLtysySIV",
        "colab_type": "code",
        "colab": {}
      },
      "source": [
        "def add(a,b =\" vas\"):\n",
        "  return a+b"
      ],
      "execution_count": null,
      "outputs": []
    },
    {
      "cell_type": "code",
      "metadata": {
        "id": "7TBDdy2XyXQE",
        "colab_type": "code",
        "colab": {
          "base_uri": "https://localhost:8080/",
          "height": 34
        },
        "outputId": "dbf671b8-e8f9-4bbf-af2b-c8bf111bec4a"
      },
      "source": [
        "add(\"anurag\")"
      ],
      "execution_count": null,
      "outputs": [
        {
          "output_type": "execute_result",
          "data": {
            "text/plain": [
              "'anurag vas'"
            ]
          },
          "metadata": {
            "tags": []
          },
          "execution_count": 41
        }
      ]
    },
    {
      "cell_type": "code",
      "metadata": {
        "id": "ItXLsjEazLs1",
        "colab_type": "code",
        "colab": {}
      },
      "source": [
        "def greeting(name):\n",
        "  print('Hello %d' %name)#same concept a c language of ampercent sign"
      ],
      "execution_count": null,
      "outputs": []
    },
    {
      "cell_type": "code",
      "metadata": {
        "id": "OpCcSjZLzWWk",
        "colab_type": "code",
        "colab": {
          "base_uri": "https://localhost:8080/",
          "height": 34
        },
        "outputId": "f87459e0-9ad3-4cef-ef06-7a0390b63a26"
      },
      "source": [
        "greeting(\"10\")"
      ],
      "execution_count": null,
      "outputs": [
        {
          "output_type": "stream",
          "text": [
            "Hello 10\n"
          ],
          "name": "stdout"
        }
      ]
    },
    {
      "cell_type": "code",
      "metadata": {
        "id": "bdeq47-dzqRw",
        "colab_type": "code",
        "colab": {}
      },
      "source": [
        "#method1\n",
        "def is_prime(num):\n",
        "  '''\n",
        "  Naive method for cracing primes.\n",
        "  '''\n",
        "  for n in range(2,num):\n",
        "    if num % n == 0:\n",
        "      print('not prime')\n",
        "      break\n",
        "  else:#If never mod zero then prime\n",
        "    print('prime')"
      ],
      "execution_count": null,
      "outputs": []
    },
    {
      "cell_type": "code",
      "metadata": {
        "id": "kP_-3E4wzrYI",
        "colab_type": "code",
        "colab": {
          "base_uri": "https://localhost:8080/",
          "height": 34
        },
        "outputId": "54124227-a05f-47b9-875f-802fd86d9e28"
      },
      "source": [
        "is_prime(7)"
      ],
      "execution_count": null,
      "outputs": [
        {
          "output_type": "stream",
          "text": [
            "prime\n"
          ],
          "name": "stdout"
        }
      ]
    },
    {
      "cell_type": "code",
      "metadata": {
        "id": "XKpRbIZczr8q",
        "colab_type": "code",
        "colab": {}
      },
      "source": [
        "#method 2\n",
        "import math\n",
        "def is_prime(num):\n",
        "  '''\n",
        "  A better method for checking primes\n",
        "  '''\n",
        "  if num%2==0 and num>2:\n",
        "    return \"not prime     \"\n",
        "  for i  in range(3, int(math.sqrt(num)) + 1,2):\n",
        "    if num % 1 == 0:\n",
        "      return False\n",
        "  return True"
      ],
      "execution_count": null,
      "outputs": []
    },
    {
      "cell_type": "code",
      "metadata": {
        "id": "mauDIqnDzsL7",
        "colab_type": "code",
        "colab": {
          "base_uri": "https://localhost:8080/",
          "height": 34
        },
        "outputId": "2bfbeb3a-493c-45ee-d75f-1d13821c0fb4"
      },
      "source": [
        "is_prime(101)"
      ],
      "execution_count": null,
      "outputs": [
        {
          "output_type": "execute_result",
          "data": {
            "text/plain": [
              "False"
            ]
          },
          "metadata": {
            "tags": []
          },
          "execution_count": 62
        }
      ]
    },
    {
      "cell_type": "code",
      "metadata": {
        "id": "ABj0F3I3zsW-",
        "colab_type": "code",
        "colab": {
          "base_uri": "https://localhost:8080/",
          "height": 34
        },
        "outputId": "2208153a-6953-4243-ed70-f07781229528"
      },
      "source": [
        "is_prime(56)"
      ],
      "execution_count": null,
      "outputs": [
        {
          "output_type": "execute_result",
          "data": {
            "text/plain": [
              "'not prime     '"
            ]
          },
          "metadata": {
            "tags": []
          },
          "execution_count": 63
        }
      ]
    },
    {
      "cell_type": "code",
      "metadata": {
        "id": "OzbvK8ANzsqv",
        "colab_type": "code",
        "colab": {}
      },
      "source": [
        "\n",
        "def myfunc(st):\n",
        "  st1=\" \"\n",
        "  l=len(st)\n",
        "  for i in st:\n",
        "    if st.index(i) %2!=0:\n",
        "      st1=st1+i.upper()\n",
        "    else:\n",
        "      st1=st1+i.lower()\n",
        "  return(st1)"
      ],
      "execution_count": null,
      "outputs": []
    },
    {
      "cell_type": "code",
      "metadata": {
        "id": "9IO0B_aczs1k",
        "colab_type": "code",
        "colab": {
          "base_uri": "https://localhost:8080/",
          "height": 34
        },
        "outputId": "21d0af5c-9b8b-40b3-f549-e727651b9b87"
      },
      "source": [
        "myfunc(\"Anthropomorphism\")"
      ],
      "execution_count": null,
      "outputs": [
        {
          "output_type": "execute_result",
          "data": {
            "text/plain": [
              "' aNtHrOpOmOrpHIsm'"
            ]
          },
          "metadata": {
            "tags": []
          },
          "execution_count": 28
        }
      ]
    },
    {
      "cell_type": "code",
      "metadata": {
        "id": "y3f4u8jCzrVH",
        "colab_type": "code",
        "colab": {}
      },
      "source": [
        ""
      ],
      "execution_count": null,
      "outputs": []
    },
    {
      "cell_type": "code",
      "metadata": {
        "id": "pgw-Gek3zrR4",
        "colab_type": "code",
        "colab": {}
      },
      "source": [
        ""
      ],
      "execution_count": null,
      "outputs": []
    },
    {
      "cell_type": "code",
      "metadata": {
        "id": "q33RcX5xzrPe",
        "colab_type": "code",
        "colab": {}
      },
      "source": [
        ""
      ],
      "execution_count": null,
      "outputs": []
    },
    {
      "cell_type": "code",
      "metadata": {
        "id": "CUhbezul8ss7",
        "colab_type": "code",
        "colab": {}
      },
      "source": [
        "#SYNTAX OF A FUNCTION"
      ],
      "execution_count": null,
      "outputs": []
    },
    {
      "cell_type": "code",
      "metadata": {
        "id": "zlzs_Fsy80Rb",
        "colab_type": "code",
        "colab": {}
      },
      "source": [
        "def name_of_function():\n",
        "  '''\n",
        "  Docstring explains fuction\n",
        "  '''\n",
        "  print('Hello')\n",
        "  "
      ],
      "execution_count": null,
      "outputs": []
    },
    {
      "cell_type": "code",
      "metadata": {
        "id": "xwVpcyEm910J",
        "colab_type": "code",
        "colab": {
          "base_uri": "https://localhost:8080/",
          "height": 34
        },
        "outputId": "ea5336e4-3c8e-4d02-a4fc-26cfeb1f6da0"
      },
      "source": [
        "name_of_function()"
      ],
      "execution_count": null,
      "outputs": [
        {
          "output_type": "stream",
          "text": [
            "Hello\n"
          ],
          "name": "stdout"
        }
      ]
    },
    {
      "cell_type": "code",
      "metadata": {
        "id": "BsY5LcZy95ML",
        "colab_type": "code",
        "colab": {}
      },
      "source": [
        "def name_of_function(name):\n",
        "  '''\n",
        "  Docstring explains fuction\n",
        "  '''\n",
        "  print('Hello '+name)\n",
        "  "
      ],
      "execution_count": null,
      "outputs": []
    },
    {
      "cell_type": "code",
      "metadata": {
        "id": "JWG30tKr-C5j",
        "colab_type": "code",
        "colab": {
          "base_uri": "https://localhost:8080/",
          "height": 34
        },
        "outputId": "f8e23ce9-19d1-47a1-f92f-0ae889d23371"
      },
      "source": [
        "name_of_function('Anurag')"
      ],
      "execution_count": null,
      "outputs": [
        {
          "output_type": "stream",
          "text": [
            "Hello Anurag\n"
          ],
          "name": "stdout"
        }
      ]
    },
    {
      "cell_type": "code",
      "metadata": {
        "id": "1PW1__fd-FWc",
        "colab_type": "code",
        "colab": {}
      },
      "source": [
        "def add_function(num1,num2):\n",
        "  return num1+num2\n",
        "  "
      ],
      "execution_count": null,
      "outputs": []
    },
    {
      "cell_type": "code",
      "metadata": {
        "id": "EaT4KU25-nH6",
        "colab_type": "code",
        "colab": {
          "base_uri": "https://localhost:8080/",
          "height": 34
        },
        "outputId": "bc15faf3-3f80-4112-965d-450bff4767f1"
      },
      "source": [
        "add_function(1,2)"
      ],
      "execution_count": null,
      "outputs": [
        {
          "output_type": "execute_result",
          "data": {
            "text/plain": [
              "3"
            ]
          },
          "metadata": {
            "tags": []
          },
          "execution_count": 8
        }
      ]
    },
    {
      "cell_type": "code",
      "metadata": {
        "id": "vaOioDBP-y0L",
        "colab_type": "code",
        "colab": {}
      },
      "source": [
        "def name_function():\n",
        "  print(\"Hello\")"
      ],
      "execution_count": null,
      "outputs": []
    },
    {
      "cell_type": "code",
      "metadata": {
        "id": "r5Xpwnpp_VTU",
        "colab_type": "code",
        "colab": {
          "base_uri": "https://localhost:8080/",
          "height": 34
        },
        "outputId": "64ae63ae-4339-4fa8-b23a-2ee4ffc7750f"
      },
      "source": [
        "name_function"
      ],
      "execution_count": null,
      "outputs": [
        {
          "output_type": "execute_result",
          "data": {
            "text/plain": [
              "<function __main__.name_function>"
            ]
          },
          "metadata": {
            "tags": []
          },
          "execution_count": 24
        }
      ]
    },
    {
      "cell_type": "code",
      "metadata": {
        "id": "FR3h4nfn_ZjP",
        "colab_type": "code",
        "colab": {
          "base_uri": "https://localhost:8080/",
          "height": 34
        },
        "outputId": "d074db99-901c-417c-f719-8adcb60e58c9"
      },
      "source": [
        "name_function()"
      ],
      "execution_count": null,
      "outputs": [
        {
          "output_type": "stream",
          "text": [
            "Hello\n"
          ],
          "name": "stdout"
        }
      ]
    },
    {
      "cell_type": "code",
      "metadata": {
        "id": "vsh9By4Z_chR",
        "colab_type": "code",
        "colab": {
          "base_uri": "https://localhost:8080/",
          "height": 85
        },
        "outputId": "c9fee371-dd18-460f-a1a8-ed4f97b0c039"
      },
      "source": [
        "help(name_function)   #shift + tab\n"
      ],
      "execution_count": null,
      "outputs": [
        {
          "output_type": "stream",
          "text": [
            "Help on function name_function in module __main__:\n",
            "\n",
            "name_function()\n",
            "\n"
          ],
          "name": "stdout"
        }
      ]
    },
    {
      "cell_type": "code",
      "metadata": {
        "id": "sm_ahq2c_guV",
        "colab_type": "code",
        "colab": {}
      },
      "source": [
        "def name_function():\n",
        "  '''\n",
        "  DOCSTRING: information about the function\n",
        "  INPUT: no input....\n",
        "  OUTPUT: Hello....\n",
        "  '''\n",
        "  print('Hello') "
      ],
      "execution_count": null,
      "outputs": []
    },
    {
      "cell_type": "code",
      "metadata": {
        "id": "rEQ9VlVl_wA9",
        "colab_type": "code",
        "colab": {
          "base_uri": "https://localhost:8080/",
          "height": 136
        },
        "outputId": "b6dc6b83-5a49-4cec-fcad-95fd90c180d7"
      },
      "source": [
        "help(name_function)"
      ],
      "execution_count": null,
      "outputs": [
        {
          "output_type": "stream",
          "text": [
            "Help on function name_function in module __main__:\n",
            "\n",
            "name_function()\n",
            "    DOCSTRING: information about the function\n",
            "    INPUT: no input....\n",
            "    OUTPUT: Hello....\n",
            "\n"
          ],
          "name": "stdout"
        }
      ]
    },
    {
      "cell_type": "code",
      "metadata": {
        "id": "uUgRUGfEAMhV",
        "colab_type": "code",
        "colab": {}
      },
      "source": [
        "def say_hello():\n",
        "  print('hello')"
      ],
      "execution_count": null,
      "outputs": []
    },
    {
      "cell_type": "code",
      "metadata": {
        "id": "goebcKH6AQvU",
        "colab_type": "code",
        "colab": {
          "base_uri": "https://localhost:8080/",
          "height": 34
        },
        "outputId": "4486747b-3e13-47c8-b544-d269c02bf100"
      },
      "source": [
        "say_hello()"
      ],
      "execution_count": null,
      "outputs": [
        {
          "output_type": "stream",
          "text": [
            "hello\n"
          ],
          "name": "stdout"
        }
      ]
    },
    {
      "cell_type": "code",
      "metadata": {
        "id": "gCfTaNa0AXXO",
        "colab_type": "code",
        "colab": {}
      },
      "source": [
        "def say_hello(name):\n",
        "  print(\"hello \"+name)"
      ],
      "execution_count": null,
      "outputs": []
    },
    {
      "cell_type": "code",
      "metadata": {
        "id": "TfqA1O-HAlR0",
        "colab_type": "code",
        "colab": {
          "base_uri": "https://localhost:8080/",
          "height": 34
        },
        "outputId": "dc60ee9f-8f48-4f7e-9ce1-7b1bd54fce90"
      },
      "source": [
        "say_hello('ANURAG')"
      ],
      "execution_count": null,
      "outputs": [
        {
          "output_type": "stream",
          "text": [
            "hello ANURAG\n"
          ],
          "name": "stdout"
        }
      ]
    },
    {
      "cell_type": "code",
      "metadata": {
        "id": "CGTc1nMPAukE",
        "colab_type": "code",
        "colab": {
          "base_uri": "https://localhost:8080/",
          "height": 34
        },
        "outputId": "34ef9043-2131-4c0d-c614-6dddbacd5b33"
      },
      "source": [
        "result=say_hello('shaddu')"
      ],
      "execution_count": null,
      "outputs": [
        {
          "output_type": "stream",
          "text": [
            "hello shaddu\n"
          ],
          "name": "stdout"
        }
      ]
    },
    {
      "cell_type": "code",
      "metadata": {
        "id": "GBOIxzkLAzvz",
        "colab_type": "code",
        "colab": {
          "base_uri": "https://localhost:8080/",
          "height": 34
        },
        "outputId": "852a159a-d46c-4547-87ba-1a2ee99c8c01"
      },
      "source": [
        "type(result)"
      ],
      "execution_count": null,
      "outputs": [
        {
          "output_type": "execute_result",
          "data": {
            "text/plain": [
              "NoneType"
            ]
          },
          "metadata": {
            "tags": []
          },
          "execution_count": 37
        }
      ]
    },
    {
      "cell_type": "code",
      "metadata": {
        "id": "h7FUFI6iA16g",
        "colab_type": "code",
        "colab": {}
      },
      "source": [
        "def add(n1,n2):\n",
        "  return n1+n2"
      ],
      "execution_count": null,
      "outputs": []
    },
    {
      "cell_type": "code",
      "metadata": {
        "id": "pHZTkNodA4fR",
        "colab_type": "code",
        "colab": {}
      },
      "source": [
        "result=add(20,30)"
      ],
      "execution_count": null,
      "outputs": []
    },
    {
      "cell_type": "code",
      "metadata": {
        "id": "jHXUzP_qBA9w",
        "colab_type": "code",
        "colab": {
          "base_uri": "https://localhost:8080/",
          "height": 34
        },
        "outputId": "13a50acd-1b68-4c82-93cd-fc6a975b19b7"
      },
      "source": [
        "result"
      ],
      "execution_count": null,
      "outputs": [
        {
          "output_type": "execute_result",
          "data": {
            "text/plain": [
              "50"
            ]
          },
          "metadata": {
            "tags": []
          },
          "execution_count": 14
        }
      ]
    },
    {
      "cell_type": "code",
      "metadata": {
        "id": "f4cdEbz0BCOo",
        "colab_type": "code",
        "colab": {}
      },
      "source": [
        "#FIND OUT IF THE WORD \"DOG \" IS IN A STRING"
      ],
      "execution_count": null,
      "outputs": []
    },
    {
      "cell_type": "code",
      "metadata": {
        "id": "mjz1pQyABLkx",
        "colab_type": "code",
        "colab": {}
      },
      "source": [
        "def dog_check(mystring):            # PROBABLE CODE BY BEGINNER\n",
        "  if 'dog' in mystring.lower():\n",
        "    return True\n",
        "  else:\n",
        "    return False "
      ],
      "execution_count": null,
      "outputs": []
    },
    {
      "cell_type": "code",
      "metadata": {
        "id": "TC0eSaKNBfdq",
        "colab_type": "code",
        "colab": {
          "base_uri": "https://localhost:8080/",
          "height": 34
        },
        "outputId": "eca34bff-c9b6-4c7d-ff2d-fd8e54542555"
      },
      "source": [
        "dog_check('My dog ran away')"
      ],
      "execution_count": null,
      "outputs": [
        {
          "output_type": "execute_result",
          "data": {
            "text/plain": [
              "True"
            ]
          },
          "metadata": {
            "tags": []
          },
          "execution_count": 45
        }
      ]
    },
    {
      "cell_type": "code",
      "metadata": {
        "id": "sJhsBijrBnCZ",
        "colab_type": "code",
        "colab": {
          "base_uri": "https://localhost:8080/",
          "height": 34
        },
        "outputId": "dce2b65b-6763-4497-eeab-7f0f2fbf376a"
      },
      "source": [
        "dog_check('My Dog ran away')"
      ],
      "execution_count": null,
      "outputs": [
        {
          "output_type": "execute_result",
          "data": {
            "text/plain": [
              "True"
            ]
          },
          "metadata": {
            "tags": []
          },
          "execution_count": 46
        }
      ]
    },
    {
      "cell_type": "code",
      "metadata": {
        "id": "SYXE-U8nBrhw",
        "colab_type": "code",
        "colab": {
          "base_uri": "https://localhost:8080/",
          "height": 34
        },
        "outputId": "e9b3ed4b-0cce-493f-d7ff-50e0673c0ff8"
      },
      "source": [
        "'dog' in 'dog ran away'"
      ],
      "execution_count": null,
      "outputs": [
        {
          "output_type": "execute_result",
          "data": {
            "text/plain": [
              "True"
            ]
          },
          "metadata": {
            "tags": []
          },
          "execution_count": 47
        }
      ]
    },
    {
      "cell_type": "code",
      "metadata": {
        "id": "P8LYJA8ZB6Qb",
        "colab_type": "code",
        "colab": {}
      },
      "source": [
        "#CODE BY PROS....."
      ],
      "execution_count": null,
      "outputs": []
    },
    {
      "cell_type": "code",
      "metadata": {
        "id": "DGOumfYBB-Nm",
        "colab_type": "code",
        "colab": {}
      },
      "source": [
        "def dog_check(mystring):\n",
        "  return 'dog' in mystring.lower()\n"
      ],
      "execution_count": null,
      "outputs": []
    },
    {
      "cell_type": "code",
      "metadata": {
        "id": "RylWCO1wCJpt",
        "colab_type": "code",
        "colab": {
          "base_uri": "https://localhost:8080/",
          "height": 34
        },
        "outputId": "b135e638-4da8-4f66-f6bd-1ab7b928498a"
      },
      "source": [
        "dog_check('Dog ran away')"
      ],
      "execution_count": null,
      "outputs": [
        {
          "output_type": "execute_result",
          "data": {
            "text/plain": [
              "True"
            ]
          },
          "metadata": {
            "tags": []
          },
          "execution_count": 50
        }
      ]
    },
    {
      "cell_type": "code",
      "metadata": {
        "id": "_jVPsqstCQbV",
        "colab_type": "code",
        "colab": {}
      },
      "source": [
        "#PIG LATIN\n"
      ],
      "execution_count": null,
      "outputs": []
    },
    {
      "cell_type": "code",
      "metadata": {
        "id": "nQogDo0rCZsx",
        "colab_type": "code",
        "colab": {}
      },
      "source": [
        "def pig_latin(word):\n",
        "  first_letter=word[0]\n",
        "  #check if vowel\n",
        "  if first_letter in'aeiou':\n",
        "    pig_word=word+'ay'\n",
        "  else:\n",
        "    pig_word=word[1:]+'ay'\n",
        "  return pig_word"
      ],
      "execution_count": null,
      "outputs": []
    },
    {
      "cell_type": "code",
      "metadata": {
        "id": "on-xN79rCmcB",
        "colab_type": "code",
        "colab": {
          "base_uri": "https://localhost:8080/",
          "height": 34
        },
        "outputId": "ca9b4185-eb17-4721-e1bd-bada2a463dee"
      },
      "source": [
        "pig_latin('apple')"
      ],
      "execution_count": null,
      "outputs": [
        {
          "output_type": "execute_result",
          "data": {
            "text/plain": [
              "'appleay'"
            ]
          },
          "metadata": {
            "tags": []
          },
          "execution_count": 56
        }
      ]
    },
    {
      "cell_type": "code",
      "metadata": {
        "id": "v3xb2YK7CohV",
        "colab_type": "code",
        "colab": {
          "base_uri": "https://localhost:8080/",
          "height": 34
        },
        "outputId": "b8b9574e-3d59-4170-8dfa-42cf58ec4864"
      },
      "source": [
        "pig_latin('word')"
      ],
      "execution_count": null,
      "outputs": [
        {
          "output_type": "execute_result",
          "data": {
            "text/plain": [
              "'orday'"
            ]
          },
          "metadata": {
            "tags": []
          },
          "execution_count": 57
        }
      ]
    },
    {
      "cell_type": "code",
      "metadata": {
        "id": "SurLssivDaI9",
        "colab_type": "code",
        "colab": {}
      },
      "source": [
        ""
      ],
      "execution_count": null,
      "outputs": []
    }
  ]
}