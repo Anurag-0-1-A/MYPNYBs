{
  "nbformat": 4,
  "nbformat_minor": 0,
  "metadata": {
    "colab": {
      "name": "String Formatting and Printing.ipynb",
      "provenance": [],
      "collapsed_sections": [],
      "include_colab_link": true
    },
    "kernelspec": {
      "name": "python3",
      "display_name": "Python 3"
    }
  },
  "cells": [
    {
      "cell_type": "markdown",
      "metadata": {
        "id": "view-in-github",
        "colab_type": "text"
      },
      "source": [
        "<a href=\"https://colab.research.google.com/github/Anurag-0-1-A/MYPNYBs/blob/master/String_Formatting_and_Printing.ipynb\" target=\"_parent\"><img src=\"https://colab.research.google.com/assets/colab-badge.svg\" alt=\"Open In Colab\"/></a>"
      ]
    },
    {
      "cell_type": "code",
      "metadata": {
        "id": "U8r3GTaZcIly",
        "colab_type": "code",
        "colab": {}
      },
      "source": [
        "#Format Method"
      ],
      "execution_count": 0,
      "outputs": []
    },
    {
      "cell_type": "code",
      "metadata": {
        "id": "CYYJH8iCcySp",
        "colab_type": "code",
        "outputId": "ca3958d0-373e-4265-858f-22dcf874dff6",
        "colab": {
          "base_uri": "https://localhost:8080/",
          "height": 34
        }
      },
      "source": [
        "print(\"This is the string {}\".format(\"INSERTED\"))"
      ],
      "execution_count": 0,
      "outputs": [
        {
          "output_type": "stream",
          "text": [
            "This is the string INSERTED\n"
          ],
          "name": "stdout"
        }
      ]
    },
    {
      "cell_type": "code",
      "metadata": {
        "id": "YCO281WddTnI",
        "colab_type": "code",
        "outputId": "70db6dcb-ef7e-4bc2-effc-04ec38ca9f04",
        "colab": {
          "base_uri": "https://localhost:8080/",
          "height": 34
        }
      },
      "source": [
        "print(\"The {} {} {}\".format(\"quick\",\"brown\",\"fox\"))"
      ],
      "execution_count": 0,
      "outputs": [
        {
          "output_type": "stream",
          "text": [
            "The quick brown fox\n"
          ],
          "name": "stdout"
        }
      ]
    },
    {
      "cell_type": "code",
      "metadata": {
        "id": "za0mpSE-dtQe",
        "colab_type": "code",
        "outputId": "b5da63cf-e2f5-4f88-8162-69da3ff1c958",
        "colab": {
          "base_uri": "https://localhost:8080/",
          "height": 34
        }
      },
      "source": [
        "print(\"The {0} {1} {2}\".format(\"quick\",\"brown\",\"fox\"))"
      ],
      "execution_count": 0,
      "outputs": [
        {
          "output_type": "stream",
          "text": [
            "The quick brown fox\n"
          ],
          "name": "stdout"
        }
      ]
    },
    {
      "cell_type": "code",
      "metadata": {
        "id": "SCT5KGqLdkeX",
        "colab_type": "code",
        "outputId": "413efe29-64d8-4ade-e121-d5ac278838af",
        "colab": {
          "base_uri": "https://localhost:8080/",
          "height": 34
        }
      },
      "source": [
        "print(\"The {2} {1} {0}\".format(\"quick\",\"brown\",\"fox\"))"
      ],
      "execution_count": 0,
      "outputs": [
        {
          "output_type": "stream",
          "text": [
            "The fox brown quick\n"
          ],
          "name": "stdout"
        }
      ]
    },
    {
      "cell_type": "code",
      "metadata": {
        "id": "znIUN8lAdqZW",
        "colab_type": "code",
        "colab": {}
      },
      "source": [
        "#Float formatting method\n",
        "#syntax = {value:width.precisionf}"
      ],
      "execution_count": 0,
      "outputs": []
    },
    {
      "cell_type": "code",
      "metadata": {
        "id": "gbkDUVcYeLae",
        "colab_type": "code",
        "colab": {}
      },
      "source": [
        "result=100/777"
      ],
      "execution_count": 0,
      "outputs": []
    },
    {
      "cell_type": "code",
      "metadata": {
        "id": "0X5bTv57eOFn",
        "colab_type": "code",
        "outputId": "998eec14-9558-40f3-9dff-7f7fd0e7bec8",
        "colab": {
          "base_uri": "https://localhost:8080/",
          "height": 34
        }
      },
      "source": [
        "result"
      ],
      "execution_count": 0,
      "outputs": [
        {
          "output_type": "execute_result",
          "data": {
            "text/plain": [
              "0.1287001287001287"
            ]
          },
          "metadata": {
            "tags": []
          },
          "execution_count": 8
        }
      ]
    },
    {
      "cell_type": "code",
      "metadata": {
        "id": "IvM3mWJReVCW",
        "colab_type": "code",
        "outputId": "e3031a26-cbae-4105-ded9-15a90d45b185",
        "colab": {
          "base_uri": "https://localhost:8080/",
          "height": 34
        }
      },
      "source": [
        "print(\"The result was {r:1.5f}\".format(r=result))"
      ],
      "execution_count": 0,
      "outputs": [
        {
          "output_type": "stream",
          "text": [
            "The result was 0.12870\n"
          ],
          "name": "stdout"
        }
      ]
    },
    {
      "cell_type": "code",
      "metadata": {
        "id": "mmINws5Feipm",
        "colab_type": "code",
        "outputId": "9db558ab-ff65-43fe-d511-6c06415d2364",
        "colab": {
          "base_uri": "https://localhost:8080/",
          "height": 34
        }
      },
      "source": [
        "print(\"The result was {r:10.5f}\".format(r=result))"
      ],
      "execution_count": 0,
      "outputs": [
        {
          "output_type": "stream",
          "text": [
            "The result was    0.12870\n"
          ],
          "name": "stdout"
        }
      ]
    },
    {
      "cell_type": "code",
      "metadata": {
        "id": "4aYSHgPWerTu",
        "colab_type": "code",
        "colab": {}
      },
      "source": [
        "#F-string method or formatted string method\n",
        "#syntax=(f'{variable1}{variable2}..)"
      ],
      "execution_count": 0,
      "outputs": []
    },
    {
      "cell_type": "code",
      "metadata": {
        "id": "1nwGh4lofAyd",
        "colab_type": "code",
        "colab": {}
      },
      "source": [
        "name=\"Anurag\""
      ],
      "execution_count": 0,
      "outputs": []
    },
    {
      "cell_type": "code",
      "metadata": {
        "id": "zAojI6p3fGzu",
        "colab_type": "code",
        "outputId": "0a0aa1f0-383a-49bf-e005-5c129157dd74",
        "colab": {
          "base_uri": "https://localhost:8080/",
          "height": 50
        }
      },
      "source": [
        "print(f'Hello \\nHis name is {name}')"
      ],
      "execution_count": 0,
      "outputs": [
        {
          "output_type": "stream",
          "text": [
            "Hello \n",
            "His name is Anurag\n"
          ],
          "name": "stdout"
        }
      ]
    },
    {
      "cell_type": "code",
      "metadata": {
        "id": "3vQ0W_EBfMLm",
        "colab_type": "code",
        "colab": {}
      },
      "source": [
        "name=\"Sam\"\n",
        "age=3"
      ],
      "execution_count": 0,
      "outputs": []
    },
    {
      "cell_type": "code",
      "metadata": {
        "id": "w8RmbrwufQGO",
        "colab_type": "code",
        "outputId": "90dfc807-83c0-4074-e227-9715221963d3",
        "colab": {
          "base_uri": "https://localhost:8080/",
          "height": 34
        }
      },
      "source": [
        "print(f'{name} is {age} years old')"
      ],
      "execution_count": 0,
      "outputs": [
        {
          "output_type": "stream",
          "text": [
            "Sam is 3 years old\n"
          ],
          "name": "stdout"
        }
      ]
    },
    {
      "cell_type": "code",
      "metadata": {
        "id": "H8Q8Ma4Gf5Z4",
        "colab_type": "code",
        "outputId": "c1d7ca5a-db89-44a3-e56e-ce41b09e73f1",
        "colab": {
          "base_uri": "https://localhost:8080/",
          "height": 34
        }
      },
      "source": [
        "a='anurag'\n",
        "b=\"sharma\"\n",
        "\"insert data in runtime :{}\".format(a)"
      ],
      "execution_count": 0,
      "outputs": [
        {
          "output_type": "execute_result",
          "data": {
            "text/plain": [
              "'insert data in runtime :anurag'"
            ]
          },
          "metadata": {
            "tags": []
          },
          "execution_count": 4
        }
      ]
    },
    {
      "cell_type": "code",
      "metadata": {
        "id": "aBd1cjnRn-Ih",
        "colab_type": "code",
        "outputId": "2cf13855-a996-44b0-f28b-e1985bcfeeda",
        "colab": {
          "base_uri": "https://localhost:8080/",
          "height": 34
        }
      },
      "source": [
        "\"insert data {} in runtime :{}\".format(a,b)#recognises data in order the way u gave curly braces"
      ],
      "execution_count": 0,
      "outputs": [
        {
          "output_type": "execute_result",
          "data": {
            "text/plain": [
              "'insert data anurag in runtime :sharma'"
            ]
          },
          "metadata": {
            "tags": []
          },
          "execution_count": 6
        }
      ]
    },
    {
      "cell_type": "code",
      "metadata": {
        "id": "IDzh7KhAoKSa",
        "colab_type": "code",
        "outputId": "e75a0257-ad28-4e74-d3fd-b04e2cdbed72",
        "colab": {
          "base_uri": "https://localhost:8080/",
          "height": 34
        }
      },
      "source": [
        "#more arguments are acceptabe but not less curly braces\n",
        "\"insert data {} in runtime :{}{}{}\".format(a,b,\"anu\",\"sharma\")"
      ],
      "execution_count": 0,
      "outputs": [
        {
          "output_type": "execute_result",
          "data": {
            "text/plain": [
              "'insert data anurag in runtime :sharmaanusharma'"
            ]
          },
          "metadata": {
            "tags": []
          },
          "execution_count": 8
        }
      ]
    },
    {
      "cell_type": "code",
      "metadata": {
        "id": "tio17om0o416",
        "colab_type": "code",
        "outputId": "2fb8b2d5-504b-4437-fdae-df64789a0344",
        "colab": {
          "base_uri": "https://localhost:8080/",
          "height": 34
        }
      },
      "source": [
        "s2=\"abcosffs\"\n",
        "s2.split(\"o\")\n",
        "s2"
      ],
      "execution_count": 0,
      "outputs": [
        {
          "output_type": "execute_result",
          "data": {
            "text/plain": [
              "'abcosffs'"
            ]
          },
          "metadata": {
            "tags": []
          },
          "execution_count": 9
        }
      ]
    },
    {
      "cell_type": "code",
      "metadata": {
        "id": "ygAwHWa-qSKP",
        "colab_type": "code",
        "outputId": "a422bfd3-2686-4fa7-9067-68170ce06aa1",
        "colab": {
          "base_uri": "https://localhost:8080/",
          "height": 34
        }
      },
      "source": [
        "s2.split(\"o\")"
      ],
      "execution_count": 0,
      "outputs": [
        {
          "output_type": "execute_result",
          "data": {
            "text/plain": [
              "['abc', 'sffs']"
            ]
          },
          "metadata": {
            "tags": []
          },
          "execution_count": 10
        }
      ]
    },
    {
      "cell_type": "code",
      "metadata": {
        "id": "c-ArWl3AqU5n",
        "colab_type": "code",
        "outputId": "34fd4a39-cceb-49e5-cea4-b699c08154db",
        "colab": {
          "base_uri": "https://localhost:8080/",
          "height": 34
        }
      },
      "source": [
        "s=\"anur#ag####shar##ma\"\n",
        "s.count('#')"
      ],
      "execution_count": 0,
      "outputs": [
        {
          "output_type": "execute_result",
          "data": {
            "text/plain": [
              "7"
            ]
          },
          "metadata": {
            "tags": []
          },
          "execution_count": 16
        }
      ]
    },
    {
      "cell_type": "code",
      "metadata": {
        "id": "Pw8iwqOzqhRs",
        "colab_type": "code",
        "outputId": "47b5c766-1c36-4224-b4da-8fa9168eb25e",
        "colab": {
          "base_uri": "https://localhost:8080/",
          "height": 34
        }
      },
      "source": [
        "s.find(\"#\")# first index occurence of #"
      ],
      "execution_count": 0,
      "outputs": [
        {
          "output_type": "execute_result",
          "data": {
            "text/plain": [
              "4"
            ]
          },
          "metadata": {
            "tags": []
          },
          "execution_count": 17
        }
      ]
    },
    {
      "cell_type": "code",
      "metadata": {
        "id": "7dje7Y6EqwWX",
        "colab_type": "code",
        "outputId": "aa906aee-2c50-4f21-b8ea-19561c7ff466",
        "colab": {
          "base_uri": "https://localhost:8080/",
          "height": 34
        }
      },
      "source": [
        "s.center(20,\"@\")"
      ],
      "execution_count": 0,
      "outputs": [
        {
          "output_type": "execute_result",
          "data": {
            "text/plain": [
              "'anur#ag####shar##ma@'"
            ]
          },
          "metadata": {
            "tags": []
          },
          "execution_count": 24
        }
      ]
    },
    {
      "cell_type": "code",
      "metadata": {
        "id": "Yd4k6V3WrAV1",
        "colab_type": "code",
        "outputId": "a0f77089-dcbc-426e-936f-37484f1b2ccb",
        "colab": {
          "base_uri": "https://localhost:8080/",
          "height": 34
        }
      },
      "source": [
        "\"hello\\tworld\".expandtabs()"
      ],
      "execution_count": 0,
      "outputs": [
        {
          "output_type": "execute_result",
          "data": {
            "text/plain": [
              "'hello   world'"
            ]
          },
          "metadata": {
            "tags": []
          },
          "execution_count": 25
        }
      ]
    },
    {
      "cell_type": "code",
      "metadata": {
        "id": "7jvZalySrjg6",
        "colab_type": "code",
        "outputId": "d519613f-4800-4986-d6f8-93a2de090e6a",
        "colab": {
          "base_uri": "https://localhost:8080/",
          "height": 34
        }
      },
      "source": [
        "s=\"anurag01\"\n",
        "s.isalnum()#alphanumeric"
      ],
      "execution_count": 0,
      "outputs": [
        {
          "output_type": "execute_result",
          "data": {
            "text/plain": [
              "True"
            ]
          },
          "metadata": {
            "tags": []
          },
          "execution_count": 30
        }
      ]
    },
    {
      "cell_type": "code",
      "metadata": {
        "id": "2maFdKI_rr20",
        "colab_type": "code",
        "outputId": "6fbc3c25-475d-4c09-d063-7fb0ef1c1dda",
        "colab": {
          "base_uri": "https://localhost:8080/",
          "height": 34
        }
      },
      "source": [
        "s.isalpha()#function starting with is returns boolean value"
      ],
      "execution_count": 0,
      "outputs": [
        {
          "output_type": "execute_result",
          "data": {
            "text/plain": [
              "False"
            ]
          },
          "metadata": {
            "tags": []
          },
          "execution_count": 31
        }
      ]
    },
    {
      "cell_type": "code",
      "metadata": {
        "id": "wQYZAPeIrzfZ",
        "colab_type": "code",
        "outputId": "bb49b953-8134-45a1-a2e6-3be168eac8d0",
        "colab": {
          "base_uri": "https://localhost:8080/",
          "height": 34
        }
      },
      "source": [
        "s.islower()"
      ],
      "execution_count": 0,
      "outputs": [
        {
          "output_type": "execute_result",
          "data": {
            "text/plain": [
              "True"
            ]
          },
          "metadata": {
            "tags": []
          },
          "execution_count": 32
        }
      ]
    },
    {
      "cell_type": "code",
      "metadata": {
        "id": "im_3PbJRsBz_",
        "colab_type": "code",
        "outputId": "9a66acc9-b6bb-4216-b10b-d0c630846a15",
        "colab": {
          "base_uri": "https://localhost:8080/",
          "height": 34
        }
      },
      "source": [
        "s.isspace()"
      ],
      "execution_count": 0,
      "outputs": [
        {
          "output_type": "execute_result",
          "data": {
            "text/plain": [
              "False"
            ]
          },
          "metadata": {
            "tags": []
          },
          "execution_count": 33
        }
      ]
    },
    {
      "cell_type": "code",
      "metadata": {
        "id": "PhAVHBNOsWkB",
        "colab_type": "code",
        "outputId": "d37b9a17-de0f-4331-b353-0d177197dbf3",
        "colab": {
          "base_uri": "https://localhost:8080/",
          "height": 34
        }
      },
      "source": [
        "s=\"Program01a\"\n",
        "s.istitle()"
      ],
      "execution_count": 0,
      "outputs": [
        {
          "output_type": "execute_result",
          "data": {
            "text/plain": [
              "False"
            ]
          },
          "metadata": {
            "tags": []
          },
          "execution_count": 37
        }
      ]
    },
    {
      "cell_type": "code",
      "metadata": {
        "id": "srvFrQC9spKE",
        "colab_type": "code",
        "outputId": "8482b5fa-c715-4fec-d7f6-c3917b90e15b",
        "colab": {
          "base_uri": "https://localhost:8080/",
          "height": 34
        }
      },
      "source": [
        "s.endswith(\"a\")"
      ],
      "execution_count": 0,
      "outputs": [
        {
          "output_type": "execute_result",
          "data": {
            "text/plain": [
              "True"
            ]
          },
          "metadata": {
            "tags": []
          },
          "execution_count": 38
        }
      ]
    },
    {
      "cell_type": "code",
      "metadata": {
        "id": "COOf2QEys-AT",
        "colab_type": "code",
        "colab": {}
      },
      "source": [
        "#difference between split and partition function\n"
      ],
      "execution_count": 0,
      "outputs": []
    },
    {
      "cell_type": "code",
      "metadata": {
        "id": "-R19pRUPtfmt",
        "colab_type": "code",
        "colab": {}
      },
      "source": [
        "s=\"hello woereld\"\n"
      ],
      "execution_count": 0,
      "outputs": []
    },
    {
      "cell_type": "code",
      "metadata": {
        "id": "u89D3_qatjxK",
        "colab_type": "code",
        "outputId": "a3cdc775-671d-4ec3-bd7a-dcc5310e753a",
        "colab": {
          "base_uri": "https://localhost:8080/",
          "height": 34
        }
      },
      "source": [
        "s.split('e')"
      ],
      "execution_count": 0,
      "outputs": [
        {
          "output_type": "execute_result",
          "data": {
            "text/plain": [
              "['h', 'llo wo', 'r', 'ld']"
            ]
          },
          "metadata": {
            "tags": []
          },
          "execution_count": 46
        }
      ]
    },
    {
      "cell_type": "code",
      "metadata": {
        "id": "pkaV-VA0tlen",
        "colab_type": "code",
        "outputId": "abeba215-19b2-4cdf-bcb2-ea12853fbe38",
        "colab": {
          "base_uri": "https://localhost:8080/",
          "height": 34
        }
      },
      "source": [
        "s.partition('e')#include delimeter in final data set\n",
        "#and below is tuple :P\n",
        "#sirf first occurence pe split kardega final dataset pe"
      ],
      "execution_count": 0,
      "outputs": [
        {
          "output_type": "execute_result",
          "data": {
            "text/plain": [
              "('h', 'e', 'llo woereld')"
            ]
          },
          "metadata": {
            "tags": []
          },
          "execution_count": 48
        }
      ]
    },
    {
      "cell_type": "code",
      "metadata": {
        "id": "lNNC8s-Etsgi",
        "colab_type": "code",
        "colab": {}
      },
      "source": [
        ""
      ],
      "execution_count": 0,
      "outputs": []
    }
  ]
}